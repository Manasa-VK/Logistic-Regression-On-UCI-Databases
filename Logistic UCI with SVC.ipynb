{
 "cells": [
  {
   "cell_type": "markdown",
   "metadata": {
    "id": "Tajfsk_7JY3E"
   },
   "source": [
    "Author Manasa VK "
   ]
  },
  {
   "cell_type": "markdown",
   "metadata": {
    "id": "SArgW_Vq-uTh"
   },
   "source": [
    "# **Assignment 3**\n",
    "\n",
    "The goal in this assignment to work a little more with Python, do some practice with logistic regression, reflect on how it can fail to work on linearly separable data. You will also work with a support vector classifier. All that, still on \"toy\" data sets. \n",
    "\n",
    "We will work with the first 'real' data sets in the next assignment. "
   ]
  },
  {
   "cell_type": "markdown",
   "metadata": {
    "id": "IlFM4hig-uTj"
   },
   "source": [
    "## **Preparation Steps**"
   ]
  },
  {
   "cell_type": "code",
   "execution_count": null,
   "metadata": {
    "id": "E3alYkjM-uTk"
   },
   "outputs": [],
   "source": [
    "# Import all necessary python packages\n",
    "import numpy as np\n",
    "import os\n",
    "import pandas as pd\n",
    "import matplotlib.pyplot as plt\n",
    "from matplotlib.colors import ListedColormap\n",
    "from sklearn.linear_model import LogisticRegression"
   ]
  },
  {
   "cell_type": "code",
   "execution_count": null,
   "metadata": {
    "colab": {
     "base_uri": "https://localhost:8080/"
    },
    "id": "eTVa-fum-uTt",
    "outputId": "3b9d6244-9d3f-466d-a381-a9582e6d1cda"
   },
   "outputs": [
    {
     "name": "stdout",
     "output_type": "stream",
     "text": [
      "URL: https://archive.ics.uci.edu/ml/machine-learning-databases/iris/iris.data\n"
     ]
    }
   ],
   "source": [
    "# ### Reading-in the Iris data\n",
    "# Iris data description: http://www.lac.inpe.br/~rafael.santos/Docs/CAP394/WholeStory-Iris.html#:~:text=The%20Iris%20Dataset%20contains%20four,model%20to%20classify%20the%20species.\n",
    "\n",
    "s = os.path.join('https://archive.ics.uci.edu', 'ml',\n",
    "                 'machine-learning-databases', 'iris','iris.data')\n",
    "s = s.replace(\"\\\\\",\"/\");\n",
    "print('URL:', s)\n",
    "df = pd.read_csv(s,header=None,encoding='utf-8')\n"
   ]
  },
  {
   "cell_type": "code",
   "execution_count": null,
   "metadata": {
    "colab": {
     "base_uri": "https://localhost:8080/",
     "height": 279
    },
    "id": "cqzyfFCC-uTz",
    "outputId": "451aeb86-ab62-4245-be8d-1c0b36b54b7d"
   },
   "outputs": [
    {
     "data": {
      "image/png": "[encoded data removed]",
      "text/plain": [
       "<Figure size 432x288 with 1 Axes>"
      ]
     },
     "metadata": {
      "needs_background": "light"
     },
     "output_type": "display_data"
    }
   ],
   "source": [
    "# select setosa and versicolor for binary classification\n",
    "y = df.iloc[0:100, 4].values\n",
    "y = np.where(y == 'Iris-setosa', -1, 1)\n",
    "\n",
    "# extract sepal length and petal length\n",
    "X = df.iloc[:100, [0, 2]].values\n",
    "\n",
    "# plot data\n",
    "plt.scatter(X[:50, 0], X[:50, 1],\n",
    "            color='red', marker='o', label='setosa')\n",
    "plt.scatter(X[50:100, 0], X[50:100, 1],\n",
    "            color='blue', marker='x', label='versicolor')\n",
    "\n",
    "plt.xlabel('sepal length [cm]')\n",
    "plt.ylabel('petal length [cm]')\n",
    "plt.legend(loc='upper left')\n",
    "\n",
    "\n",
    "# plt.savefig('images/02_06.png', dpi=300)\n",
    "plt.show()"
   ]
  },
  {
   "cell_type": "code",
   "execution_count": null,
   "metadata": {
    "id": "xYEgTzp0s5BN"
   },
   "outputs": [],
   "source": [
    "# function for visualizing decision regions\n",
    "\n",
    "from matplotlib.colors import ListedColormap\n",
    "\n",
    "\n",
    "def plot_decision_regions(X, y, classifier, resolution=0.02):\n",
    "\n",
    "    # setup marker generator and color map\n",
    "    markers = ('s', 'x', 'o', '^', 'v')\n",
    "    colors = ('red', 'blue', 'lightgreen', 'gray', 'cyan')\n",
    "    cmap = ListedColormap(colors[:len(np.unique(y))])\n",
    "\n",
    "    # plot the decision surface\n",
    "    x1_min, x1_max = X[:, 0].min() - 1, X[:, 0].max() + 1\n",
    "    x2_min, x2_max = X[:, 1].min() - 1, X[:, 1].max() + 1\n",
    "    xx1, xx2 = np.meshgrid(np.arange(x1_min, x1_max, resolution),\n",
    "                           np.arange(x2_min, x2_max, resolution))\n",
    "    Z = classifier.predict(np.array([xx1.ravel(), xx2.ravel()]).T)\n",
    "    Z = Z.reshape(xx1.shape)\n",
    "    plt.contourf(xx1, xx2, Z, alpha=0.3, cmap=cmap)\n",
    "    plt.xlim(xx1.min(), xx1.max())\n",
    "    plt.ylim(xx2.min(), xx2.max())\n",
    "\n",
    "    # plot class examples\n",
    "    for idx, cl in enumerate(np.unique(y)):\n",
    "        plt.scatter(x=X[y == cl, 0], \n",
    "                    y=X[y == cl, 1],\n",
    "                    alpha=0.8, \n",
    "                    c=colors[idx],\n",
    "                    marker=markers[idx], \n",
    "                    label=cl, \n",
    "                    edgecolor='black')"
   ]
  },
  {
   "cell_type": "markdown",
   "metadata": {
    "id": "phGY3AEGn3dz"
   },
   "source": [
    "-----------------------\n",
    "-----------------------\n",
    "-----------------------\n"
   ]
  },
  {
   "cell_type": "markdown",
   "metadata": {
    "id": "Pe9kKR3J-uUA"
   },
   "source": [
    "## <font color = 'blue'> **Question 1. Practice with logistic regression** </font>\n",
    "\n",
    "Let's first load the textbook's implementation of logistic regression with gradient descent."
   ]
  },
  {
   "cell_type": "code",
   "execution_count": null,
   "metadata": {
    "id": "HSRTXCwz-uUA"
   },
   "outputs": [],
   "source": [
    "class LogisticRegressionGD(object):\n",
    "    \"\"\"Logistic Regression Classifier using gradient descent.\n",
    "\n",
    "    Parameters\n",
    "    ------------\n",
    "    eta : float\n",
    "      Learning rate (between 0.0 and 1.0)\n",
    "    n_iter : int\n",
    "      Passes over the training dataset.\n",
    "    random_state : int\n",
    "      Random number generator seed for random weight\n",
    "      initialization.\n",
    "\n",
    "\n",
    "    Attributes\n",
    "    -----------\n",
    "    w_ : 1d-array\n",
    "      Weights after fitting.\n",
    "    loss_ : list\n",
    "      Logistic loss function value in each epoch.\n",
    "\n",
    "    \"\"\"\n",
    "    def __init__(self, eta=0.05, n_iter=100, random_state=1):\n",
    "        self.eta = eta\n",
    "        self.n_iter = n_iter\n",
    "        self.random_state = random_state\n",
    "\n",
    "    def fit(self, X, y):\n",
    "        \"\"\" Fit training data.\n",
    "\n",
    "        Parameters\n",
    "        ----------\n",
    "        X : {array-like}, shape = [n_examples, n_features]\n",
    "          Training vectors, where n_examples is the number of examples and\n",
    "          n_features is the number of features.\n",
    "        y : array-like, shape = [n_examples]\n",
    "          Target values.\n",
    "\n",
    "        Returns\n",
    "        -------\n",
    "        self : object\n",
    "\n",
    "        \"\"\"\n",
    "        rgen = np.random.RandomState(self.random_state)\n",
    "        self.w_ = rgen.normal(loc=0.0, scale=0.01, size=1 + X.shape[1])\n",
    "        self.loss_ = []\n",
    "\n",
    "        for i in range(self.n_iter):\n",
    "            net_input = self.net_input(X)\n",
    "            output = self.activation(net_input)\n",
    "            errors = (y - output)\n",
    "            self.w_[1:] += self.eta * X.T.dot(errors)\n",
    "            self.w_[0] += self.eta * errors.sum()\n",
    "            \n",
    "            # compute the logistic `loss` \n",
    "            loss = -y.dot(np.log(output)) - ((1 - y).dot(np.log(1 - output)))\n",
    "            self.loss_.append(loss)\n",
    "        return self\n",
    "    \n",
    "    def net_input(self, X):\n",
    "        \"\"\"Calculate net input\"\"\"\n",
    "        return np.dot(X, self.w_[1:]) + self.w_[0]\n",
    "\n",
    "    def activation(self, z):\n",
    "        \"\"\"Compute logistic sigmoid activation\"\"\"\n",
    "        return 1. / (1. + np.exp(-np.clip(z, -250, 250)))\n",
    "\n",
    "    def predict(self, X):\n",
    "        \"\"\"Return class label after unit step\"\"\"\n",
    "        return np.where(self.net_input(X) >= 0.0, 1, 0)\n",
    "        # equivalent to:\n",
    "        # return np.where(self.activation(self.net_input(X)) >= 0.5, 1, 0)"
   ]
  },
  {
   "cell_type": "markdown",
   "metadata": {
    "id": "dMYBgs4E-uUF"
   },
   "source": [
    "Below you can see the first 3 data points of the data set. "
   ]
  },
  {
   "cell_type": "code",
   "execution_count": null,
   "metadata": {
    "colab": {
     "base_uri": "https://localhost:8080/"
    },
    "id": "fyoLJVet-uUG",
    "outputId": "9c01a913-00cc-453c-84fd-d1691428bcc3"
   },
   "outputs": [
    {
     "data": {
      "text/plain": [
       "(array([[5.1, 1.4],\n",
       "        [4.9, 1.4],\n",
       "        [4.7, 1.3]]), array([-1, -1, -1]))"
      ]
     },
     "execution_count": 6,
     "metadata": {},
     "output_type": "execute_result"
    }
   ],
   "source": [
    "X[0:3], y[0:3]"
   ]
  },
  {
   "cell_type": "markdown",
   "metadata": {
    "id": "sPbGfqmf-uUK"
   },
   "source": [
    "\n",
    "Suppose the initial weights of the logistic neuron are w0=0.1, w1=-0.2, w2=0.1\n",
    "\n",
    "<font color = 'blue'> **Q1-1**.  </font> Write the weights after processing data points 0,1,2, with learning rate $\\eta=0.1$ and show your calculations. This is similar to the previous assignment, only done now for the logistic neuron. You can also use *LogisticRegressionGD* to check your calculations. <br>\n",
    "\n",
    "<font color = 'blue'> **Q1-2**.  </font> Given our data $X$, let $X_{d=2}$ and $X_{d=3}$ be the quadratic and cubic features. Using PolynomialFeatures from sklearn.preprocessing, generate $X_{d=2}$ and $X_{d=3}$\n",
    "\n",
    "<font color = 'blue'> **Q1-3**.  </font> Using *LogisticRegressionGD* fit $X$, $X_{d=2}$ and $X_{d=3}$. Here you should set $\\eta = 10e-9$ and $n_{iter}>1000$. For each of these three cases, report the loss function value for the model computed by *LogisticRegressionGD*.\n",
    "Here it is expected that the loss value decreases as $d$ increases. \n"
   ]
  },
  {
   "cell_type": "code",
   "execution_count": null,
   "metadata": {
    "id": "YNeX0LRRXCU3"
   },
   "outputs": [],
   "source": [
    "# change labels from -1 to 0:\n",
    "# this is required in logistic regression\n",
    "y = np.where(y==1,1,0)"
   ]
  },
  {
   "cell_type": "code",
   "execution_count": null,
   "metadata": {
    "id": "0wYFal09ID7Q"
   },
   "outputs": [],
   "source": [
    "# your calculations and code go here"
   ]
  },
  {
   "cell_type": "markdown",
   "metadata": {
    "id": "8yAbpg9CVyc5"
   },
   "source": [
    "The following cells accomplish the updates with code, but more manual solutions are also acceptable. "
   ]
  },
  {
   "cell_type": "markdown",
   "metadata": {
    "id": "nBxjDDOHTcPU"
   },
   "source": [
    "\n",
    "\n",
    "```\n",
    "# This is formatted as code\n",
    "```\n",
    "\n",
    "<b>Solution-1</b> You can treat the three data points as a batch and do one update for the entire batch. "
   ]
  },
  {
   "cell_type": "code",
   "execution_count": null,
   "metadata": {
    "colab": {
     "base_uri": "https://localhost:8080/"
    },
    "id": "jRBEmIZLs_3m",
    "outputId": "22729090-b51b-4030-9c04-77dc0ce6bfdf"
   },
   "outputs": [
    {
     "name": "stdout",
     "output_type": "stream",
     "text": [
      "If we only proces the first 3 points, the new weight vector is [array([0.00330771]), array([-0.67348663]), array([-0.03207321])]\n"
     ]
    }
   ],
   "source": [
    "\n",
    "#set up the stage for the question\n",
    "X_sample = X[0:3]\n",
    "y_sample = y[0:3].reshape(X_sample.shape[0],1)\n",
    "w = [[0.1], [-0.2], [0.1]]\n",
    "eta = 0.1\n",
    "\n",
    "\n",
    "# calculate net input\n",
    "net_input = np.dot(X[0:3], w[1:])+ w[0]\n",
    "# calculate logistic sigmoid activation\n",
    "output = 1./(1.+np.exp(-np.clip(net_input,-250,250)))\n",
    "errors = (y_sample - output)\n",
    "w[1:]+= eta * X_sample.T.dot(errors)\n",
    "w[0] += eta * errors.sum()\n",
    "\n",
    "# conclusion\n",
    "print('If we only proces the first 3 points, the new weight vector is {}'.format(w))"
   ]
  },
  {
   "cell_type": "markdown",
   "metadata": {
    "id": "33P9urrATcPV"
   },
   "source": [
    "<b>Solution-2</b> You can use stochastic gradient descend which will look at one sample at a time"
   ]
  },
  {
   "cell_type": "code",
   "execution_count": null,
   "metadata": {
    "colab": {
     "base_uri": "https://localhost:8080/"
    },
    "id": "1OCUSJrcTcPW",
    "outputId": "4e459e6b-74fd-49a7-9352-0738bb4402d1"
   },
   "outputs": [
    {
     "name": "stdout",
     "output_type": "stream",
     "text": [
      "[-0.31431989] -0.78 0.31431988606174616\n",
      "The new weight vector is [ 0.06856801 -0.36030314  0.05599522] after processing point 0\n",
      "[-0.16540852] -1.6185240815425808 0.16540851797474998\n",
      "The new weight vector is [ 0.05202716 -0.44135332  0.03283802] after processing point 1\n",
      "[-0.12135679] -1.979643993724147 0.12135679348282503\n",
      "The new weight vector is [ 0.03989148 -0.49839101  0.01706164] after processing point 2\n"
     ]
    }
   ],
   "source": [
    "# way 2\n",
    "w = np.array([0.1, -0.2, 0.1])\n",
    "eta = 0.1\n",
    "for i, record in enumerate(X_sample):\n",
    "    net_input = np.dot(record, w[1:])+ w[0]\n",
    "    \n",
    "    # calculate logistic sigmoid activation\n",
    "    output = 1./(1.+np.exp(-np.clip(net_input,-250,250)))\n",
    "    \n",
    "    errors = y_sample[i] - output\n",
    "    print(errors,  net_input, output)\n",
    "    w[1:]+= eta * X_sample[i].T*errors[0]\n",
    "    w[0] += eta * errors.sum()\n",
    "\n",
    "    # conclusion\n",
    "    print('The new weight vector is {} after processing point {}'.format(w,i))"
   ]
  },
  {
   "cell_type": "code",
   "execution_count": null,
   "metadata": {
    "id": "b-YT0keDTcPX"
   },
   "outputs": [],
   "source": [
    "# 1.2\n",
    "\n",
    "from sklearn.preprocessing import PolynomialFeatures\n",
    "\n",
    "X_d2 = PolynomialFeatures(degree=2).fit_transform(X.copy())\n",
    "X_d3 = PolynomialFeatures(degree=3).fit_transform(X.copy())"
   ]
  },
  {
   "cell_type": "code",
   "execution_count": null,
   "metadata": {
    "colab": {
     "base_uri": "https://localhost:8080/"
    },
    "id": "byQMXLXKTcPX",
    "outputId": "16098161-f5b6-4f43-d6dc-eccc7b94c6c7"
   },
   "outputs": [
    {
     "name": "stdout",
     "output_type": "stream",
     "text": [
      "d = 1 loss: 69.78069003848721\n",
      "d = 2 loss: 67.85346542553324\n",
      "d = 3 loss: 28.616218009346834\n"
     ]
    }
   ],
   "source": [
    "# 1.3\n",
    "\n",
    "LRGD = LogisticRegressionGD(eta=10e-9, n_iter=1000)\n",
    "\n",
    "# prints loss for each dataset\n",
    "for i,data in enumerate([X,X_d2,X_d3]):\n",
    "    LRGD.fit(data,y)\n",
    "    print('d = {} loss: {}'.format(i+1,LRGD.fit(data,y).loss_[-1]))"
   ]
  },
  {
   "cell_type": "code",
   "execution_count": null,
   "metadata": {
    "id": "HV6DRoDxG1Rl"
   },
   "outputs": [],
   "source": [
    "# Grader's area\n",
    "maxScore = 0\n",
    "\n",
    "# maxScore +=  \n",
    "# actualScore += "
   ]
  },
  {
   "cell_type": "markdown",
   "metadata": {
    "id": "6grYJ9spn6C1"
   },
   "source": [
    "-----------------------\n",
    "-----------------------\n",
    "-----------------------\n"
   ]
  },
  {
   "cell_type": "markdown",
   "metadata": {
    "id": "YMEcdAp3-uT-"
   },
   "source": [
    "##  <font color = 'blue'> **Question 2. Logistic Regression: How 'unfair' can it be?**  </font>\n",
    "\n",
    "We have seen that the inductive bias of an SVM guarantees that when the dataset is linearly separable, SVM will return a hyperplane that is at exactly the same distance from the two classes.  But what about logistic regression? Can we guarantee that it can also be at least partially fair?\n",
    "\n",
    "The answer is **negative**. We can  demonstrate how logistic regression can be 'unfair' by constructing a dataset with the properties that: <br> \n",
    "\n",
    "**a.** the data set is linearly separable  <br>\n",
    "**b.** the optimal logistic regression model corresponds to a hyperplane that nearly 'touches' one of the two classes, i.e. it gives a very big margin to the one of the two classes and very small margin for the other class.  <br>\n",
    "\n",
    "Demonstrate your answer as follows: <br>\n",
    "\n",
    "<font color = 'blue'> **Q2-1**.  </font>\n",
    " Plot the data points, as we did above for the iris data set. This will show that your data set is linearly separable. <br>\n",
    "<font color = 'blue'> **Q2-2**.  </font> Calculate the optimal logistic neuron weights using the function *LogisticRegressionGD* from question 1. <br>\n",
    "<font color = 'blue'> **Q2-3**. </font>  Plot the decision regions to demonstrate how the learned separation line is unfair. \n",
    "\n",
    "**Hint**: Try small datasets.\n",
    "**Note**: It's best to use fresh variables for your dataset, because the previous $X,y$ are re-used in question 3.\n"
   ]
  },
  {
   "cell_type": "code",
   "execution_count": null,
   "metadata": {
    "id": "LejWjUeapllz"
   },
   "outputs": [],
   "source": [
    "# your answers go here"
   ]
  },
  {
   "cell_type": "code",
   "execution_count": null,
   "metadata": {
    "id": "hit7yKuRl9jv"
   },
   "outputs": [],
   "source": [
    "# Create data set\n",
    "epsilon = 1\n",
    "n = 30\n",
    "m = 2\n",
    "X2 = np.array([np.array([1]*n + [1+epsilon]*m),\n",
    "                  np.array(list(range(n))+list(range(m)))]).T\n",
    "y2 = np.array([0]*n + [1]*m)"
   ]
  },
  {
   "cell_type": "code",
   "execution_count": null,
   "metadata": {
    "colab": {
     "base_uri": "https://localhost:8080/",
     "height": 280
    },
    "id": "DWTg240M-2YG",
    "outputId": "95fc0ea4-4298-43b2-9b51-940179aa08c1"
   },
   "outputs": [
    {
     "data": {
      "image/png": "[encoded data removed]",
      "text/plain": [
       "<Figure size 432x288 with 1 Axes>"
      ]
     },
     "metadata": {
      "needs_background": "light"
     },
     "output_type": "display_data"
    }
   ],
   "source": [
    "# Q2-1\n",
    "plt.scatter(X2[:n, 0], X2[:n, 1],\n",
    "            color='red', marker='o', label='0')\n",
    "plt.scatter(X2[n:, 0], X2[n:, 1],\n",
    "            color='blue', marker='x', label='1')\n",
    "plt.xlabel('x-axis')\n",
    "plt.ylabel('y-axis')\n",
    "plt.legend(loc='upper left')\n",
    "plt.show()"
   ]
  },
  {
   "cell_type": "code",
   "execution_count": null,
   "metadata": {
    "colab": {
     "base_uri": "https://localhost:8080/"
    },
    "id": "mTPbCgxvkoA9",
    "outputId": "fa8dc134-065f-4e85-96d0-e63f0c9472f8"
   },
   "outputs": [
    {
     "name": "stderr",
     "output_type": "stream",
     "text": [
      "/usr/local/lib/python3.7/dist-packages/ipykernel_launcher.py:56: RuntimeWarning: divide by zero encountered in log\n"
     ]
    },
    {
     "name": "stdout",
     "output_type": "stream",
     "text": [
      "9.356363827777085e-05\n"
     ]
    }
   ],
   "source": [
    "# Q2-2\n",
    "LRGD = LogisticRegressionGD(eta=0.5, n_iter=100000)\n",
    "LRGD.fit(X2,y2)\n",
    "print(LRGD.loss_[-1])\n"
   ]
  },
  {
   "cell_type": "code",
   "execution_count": null,
   "metadata": {
    "colab": {
     "base_uri": "https://localhost:8080/",
     "height": 265
    },
    "id": "2j_oeiM1TcPd",
    "outputId": "dd219714-fddb-4c6b-e397-d22cf7cfc40e"
   },
   "outputs": [
    {
     "data": {
      "image/png": "[encoded data removed]",
      "text/plain": [
       "<Figure size 432x288 with 1 Axes>"
      ]
     },
     "metadata": {
      "needs_background": "light"
     },
     "output_type": "display_data"
    }
   ],
   "source": [
    "# Q2-3\n",
    "plot_decision_regions(X2,y2,classifier=LRGD,resolution=0.02)\n",
    "pred = LRGD.predict(X2)\n"
   ]
  },
  {
   "cell_type": "code",
   "execution_count": null,
   "metadata": {
    "id": "ayVRy0pxlBDP"
   },
   "outputs": [],
   "source": [
    "# Grader's area\n",
    "\n",
    "# maxScore +=  \n",
    "# actualScore += \n",
    "\n"
   ]
  },
  {
   "cell_type": "markdown",
   "metadata": {
    "id": "Z2ZazaTq1GzQ"
   },
   "source": [
    "<font color = 'blue'> **Q2-4**.  </font> The standard scikit-learn implementation of logistic regression uses regularization by default ($C=1$).  Can you come up with a linearly separable dataset that makes that **default** implementation fail? <br>\n",
    "\n",
    "[Note: This is an experimental question. You should be able to use the example from above, or modify it, and make the default implementation fail.]"
   ]
  },
  {
   "cell_type": "code",
   "execution_count": null,
   "metadata": {
    "id": "yrSMBWyD2mKC"
   },
   "outputs": [],
   "source": [
    "# your answer goes here\n",
    "from sklearn.linear_model import LogisticRegression"
   ]
  },
  {
   "cell_type": "code",
   "execution_count": null,
   "metadata": {
    "colab": {
     "base_uri": "https://localhost:8080/",
     "height": 265
    },
    "id": "AgsGZtZOyXUj",
    "outputId": "9ecaa2f1-676f-4a95-bcd5-275927ebf751"
   },
   "outputs": [
    {
     "data": {
      "image/png": "[encoded data removed]",
      "text/plain": [
       "<Figure size 432x288 with 1 Axes>"
      ]
     },
     "metadata": {
      "needs_background": "light"
     },
     "output_type": "display_data"
    }
   ],
   "source": [
    "# Q2-4\n",
    "LR = LogisticRegression(max_iter=1000)\n",
    "LR.fit(X2,y2)\n",
    "\n",
    "plot_decision_regions(X2,y2,classifier=LR,resolution=0.02)\n",
    "pred = LR.predict(X2)\n"
   ]
  },
  {
   "cell_type": "code",
   "execution_count": null,
   "metadata": {
    "id": "ZlN9ptsC2rz_"
   },
   "outputs": [],
   "source": [
    "# Grader's area\n",
    "\n",
    "# maxScore +=  \n",
    "# actualScore += "
   ]
  },
  {
   "cell_type": "markdown",
   "metadata": {
    "id": "kffsOAaln8C_"
   },
   "source": [
    "-----------------------\n",
    "-----------------------\n",
    "-----------------------\n"
   ]
  },
  {
   "cell_type": "markdown",
   "metadata": {
    "id": "uVUZKNB2kod6"
   },
   "source": [
    "##  <font color = 'blue'> **Question 3. SVM and classification margin**  </font>\n",
    "\n",
    "The Iris dataset defined in above cells is linearly separable. \n",
    "\n",
    "<font color = 'blue'> **Q3-1.**  </font> Use a [linear SVC](https://scikit-learn.org/stable/modules/generated/sklearn.svm.LinearSVC.html) to learn a hyperplane $y=w_1x_1 +w_2x_2 +b$ that maximizes the margin for this Iris dataset. In your answer, specify a setting for the hyperparameter $C$ (it is denoted as $\\gamma$ in the lecture slides) that reduces the amount of regularization, i.e. it incentivizes very small slacks.\n",
    "\n",
    "<font color = 'blue'> **Q3-2.** </font> Extract the coefficients $w$ and the intercept $b$ from the learned SVC. Find the margin, $2/||w||_2$. Print out the coefficients, intercept, and the margin.\n",
    "[Hint: Read the documentation in order to access the coefficients] \n",
    "\n",
    "<font color = 'blue'> **Q3-3.** </font> Set $w = w/s$ and $b=b/s$ where $s=||w||_2$. This changes the numerical definition of the separation line, but the line is still the same. Print out new weights and intercept. Plot the decision with new weights and intercept.\n",
    "\n",
    "<font color = 'blue'> **Q3-4.** </font> With the new $w$ and $b$, calculate $wx^T + b$ for each point $x$ in our dataset. This will give a range of values, let $\\beta$ be the smallest one in absolute value. This $\\beta$ is the margin/2 (in fact there should be two points $x_1$ and $x_2$ of different labels, that give $wx_1^T + b = \\beta$ and $wx_2^T + b = -\\beta$). Write out calculation and print out margin.\n",
    "\n",
    "\n",
    "**Note:** as with anything else, feel free to discuss this on Canvas."
   ]
  },
  {
   "cell_type": "code",
   "execution_count": null,
   "metadata": {
    "colab": {
     "base_uri": "https://localhost:8080/",
     "height": 373
    },
    "id": "lolqDWGpTcPf",
    "outputId": "46f79136-ad82-404a-aabb-96921ff93225"
   },
   "outputs": [
    {
     "name": "stdout",
     "output_type": "stream",
     "text": [
      "Weights: [[-0.95719674  2.07922545]]\n",
      "Intercept: [-0.35598387]\n",
      "Margin: 0.8737537439592715\n",
      "New weights: [[-0.41817712  0.90836551]]\n",
      "New intercept: [-0.15552112]\n",
      "Margin: 0.8737442331903535\n"
     ]
    },
    {
     "data": {
      "image/png": "[encoded data removed]",
      "text/plain": [
       "<Figure size 432x288 with 1 Axes>"
      ]
     },
     "metadata": {
      "needs_background": "light"
     },
     "output_type": "display_data"
    }
   ],
   "source": [
    "# Q3-1\n",
    "from sklearn.svm import LinearSVC\n",
    "\n",
    "lsvc = LinearSVC(random_state=1,\n",
    "                 C=10e6,\n",
    "                 tol=1e-05)\n",
    "lsvc.fit(X,y)\n",
    "\n",
    "# Q3-2\n",
    "print(\"Weights: {}\".format(lsvc.coef_))\n",
    "print(\"Intercept: {}\".format(lsvc.intercept_))\n",
    "margin = 2/np.linalg.norm(lsvc.coef_)\n",
    "print(\"Margin: {}\".format(margin))\n",
    "\n",
    "# Q3-3\n",
    "w_ = lsvc.coef_/np.linalg.norm(lsvc.coef_)\n",
    "b_ = lsvc.intercept_/np.linalg.norm(lsvc.coef_)\n",
    "print(\"New weights: {}\".format(w_))\n",
    "print(\"New intercept: {}\".format(b_))\n",
    "lsvc.coef_ = w_\n",
    "lsvc.intercept_ = b_\n",
    "plot_decision_regions(X,y,lsvc,resolution=0.02)\n",
    "\n",
    "# Q3-4\n",
    "f_x = np.dot(w_, X.T) + b_\n",
    "beta = np.abs(f_x).min()\n",
    "margin = beta * 2\n",
    "print(\"Margin: {}\".format(margin))"
   ]
  },
  {
   "cell_type": "code",
   "execution_count": null,
   "metadata": {
    "id": "64Pwo6Mxmv6X"
   },
   "outputs": [],
   "source": [
    "# Grader's area\n",
    "\n",
    "# maxScore +=  \n",
    "# actualScore += \n"
   ]
  },
  {
   "cell_type": "markdown",
   "metadata": {
    "id": "JTLcwDVan9x9"
   },
   "source": [
    "-----------------------\n",
    "-----------------------\n",
    "-----------------------\n"
   ]
  },
  {
   "cell_type": "markdown",
   "metadata": {
    "id": "N3ECKgmBD_aJ"
   },
   "source": [
    "##  <font color = 'blue'> **Question 4. Upper bound for perceptron errors before convergence**  </font>\n",
    "\n",
    "In this problem we will use $\\beta$ calculated in question 3. If you have not been able to calculate it, you can 'borrow' its value from someone else that has calculated it (I expect that this can be done on Canvas).\n",
    "\n",
    "<font color = 'blue'> **Q4-1.** </font> Calculate $R = \\max_{x\\in X} ||x||_2$. In other words, find the 2-norm of all points in the dataset, and let $R$ be the maximum norm. \n",
    "\n",
    "<font color = 'blue'> **Q4-2.** </font> Calculate $maxErrors = R/\\beta^2$. This is the maximum number of errors that a perceptron can do, in the worst case, before it convergences. \n",
    "\n",
    "<font color = 'blue'> **Q4-3.** </font> Compare $maxError$ with the actual number of errors that the perceptron does with a random initialization. [Hint: Re-use the code from assignment 2, or anything else that can provide you with that number].  \n",
    "\n",
    "\n"
   ]
  },
  {
   "cell_type": "code",
   "execution_count": null,
   "metadata": {
    "id": "ccvq5Z_RI8nO"
   },
   "outputs": [],
   "source": [
    "# your answers go here"
   ]
  },
  {
   "cell_type": "code",
   "execution_count": null,
   "metadata": {
    "colab": {
     "base_uri": "https://localhost:8080/"
    },
    "id": "lk4_vsvqBXSE",
    "outputId": "b53e5eca-64ee-45eb-836b-32d7f5bd628a"
   },
   "outputs": [
    {
     "name": "stdout",
     "output_type": "stream",
     "text": [
      "Maximum norm: 8.462860036654275\n",
      "Maximum number of errors: 44.34130850446574\n"
     ]
    }
   ],
   "source": [
    "# Q4-1\n",
    "\n",
    "R = np.linalg.norm(X, axis=1).max()\n",
    "print(\"Maximum norm: {}\".format(R))\n",
    "\n",
    "# Q4-2\n",
    "maxErrors = R/(beta**2)\n",
    "print(\"Maximum number of errors: {}\".format(maxErrors))\n",
    "\n",
    "# Q4-3\n",
    "# Students can justify what they have observed given different learning rate settings. Like assignment-2 Question-2, the learning rate value is impacting on the converging speed. \n",
    "# A larger learning rate usually leads to faster convergence (except for eta > 1, the number of errors won't change). \n",
    "# The maximum number of errors in Q4-3 actually is the case when eta=1. The Perceptron with eta=1 is the case we compute this upper bound. \n",
    "# Any reasonable observation can get full credits.  "
   ]
  },
  {
   "cell_type": "code",
   "execution_count": null,
   "metadata": {
    "id": "vUts9oNyI4R7"
   },
   "outputs": [],
   "source": [
    "# Grader's area\n",
    "\n",
    "# maxScore +=  \n",
    "# actualScore +=  "
   ]
  },
  {
   "cell_type": "markdown",
   "metadata": {
    "id": "fdAULOJaI_2h"
   },
   "source": [
    "----------------------------\n",
    "----------------------------\n",
    "----------------------------"
   ]
  },
  {
   "cell_type": "code",
   "execution_count": null,
   "metadata": {
    "id": "IVkneTzYCAxs"
   },
   "outputs": [],
   "source": [
    "# Grader's area\n",
    "\n",
    "# score = actualScore*100/maxScore"
   ]
  },
  {
   "cell_type": "code",
   "execution_count": null,
   "metadata": {
    "id": "RHdcyebzleMQ"
   },
   "outputs": [],
   "source": []
  }
 ],
 "metadata": {
  "colab": {
   "collapsed_sections": [],
   "provenance": []
  },
  "kernelspec": {
   "display_name": "Python 3 (ipykernel)",
   "language": "python",
   "name": "python3"
  },
  "language_info": {
   "codemirror_mode": {
    "name": "ipython",
    "version": 3
   },
   "file_extension": ".py",
   "mimetype": "text/x-python",
   "name": "python",
   "nbconvert_exporter": "python",
   "pygments_lexer": "ipython3",
   "version": "3.9.13"
  }
 },
 "nbformat": 4,
 "nbformat_minor": 1
}
