{
  "nbformat": 4,
  "nbformat_minor": 0,
  "metadata": {
    "kernelspec": {
      "display_name": "Python 3",
      "language": "python",
      "name": "python3"
    },
    "language_info": {
      "codemirror_mode": {
        "name": "ipython",
        "version": 3
      },
      "file_extension": ".py",
      "mimetype": "text/x-python",
      "name": "python",
      "nbconvert_exporter": "python",
      "pygments_lexer": "ipython3",
      "version": "3.7.4"
    },
    "colab": {
      "provenance": [],
      "collapsed_sections": []
    }
  },
  "cells": [
    {
      "cell_type": "markdown",
      "metadata": {
        "id": "Tajfsk_7JY3E"
      },
      "source": [
        "**Note to grader:** Each question consists of parts, e.g. Q1(i), Q1(ii), etc. Each part must be graded  on a 0-4 scale, following the standard NJIT convention (A:4, B+: 3.5, B:3, C+: 2.5, C: 2, D:1, F:0). \n",
        "The total score must be re-scaled to 100 -- that should apply to all future assignments so that Canvas assigns the same weight on all assignments. \n",
        "\n"
      ]
    },
    {
      "cell_type": "code",
      "source": [
        "# Grader's area\n",
        "import numpy as np\n",
        "M = np.zeros([10,10])\n",
        "maxScore = 0\n"
      ],
      "metadata": {
        "id": "zPnHTf9MfT5X"
      },
      "execution_count": null,
      "outputs": []
    },
    {
      "cell_type": "markdown",
      "metadata": {
        "id": "SArgW_Vq-uTh"
      },
      "source": [
        "# **Assignment 3**\n",
        "\n",
        "The goal in this assignment to work a little more with Python, do some practice with logistic regression, reflect on how it can fail to work on linearly separable data. You will also work with a support vector classifier. All that, still on \"toy\" data sets. \n",
        "\n",
        "We will work with the first 'real' data sets in the next assignment. "
      ]
    },
    {
      "cell_type": "markdown",
      "metadata": {
        "id": "IlFM4hig-uTj"
      },
      "source": [
        "## **Preparation Steps**"
      ]
    },
    {
      "cell_type": "code",
      "metadata": {
        "id": "E3alYkjM-uTk"
      },
      "source": [
        "# Import all necessary python packages\n",
        "import numpy as np\n",
        "import os\n",
        "import pandas as pd\n",
        "import matplotlib.pyplot as plt\n",
        "from matplotlib.colors import ListedColormap\n",
        "from sklearn.linear_model import LogisticRegression"
      ],
      "execution_count": null,
      "outputs": []
    },
    {
      "cell_type": "code",
      "metadata": {
        "id": "eTVa-fum-uTt",
        "outputId": "ec575749-c5be-4b32-a4b0-e71d706bdc93",
        "colab": {
          "base_uri": "https://localhost:8080/"
        }
      },
      "source": [
        "# ### Reading-in the Iris data\n",
        "\n",
        "s = os.path.join('https://archive.ics.uci.edu', 'ml',\n",
        "                 'machine-learning-databases', 'iris','iris.data')\n",
        "s = s.replace(\"\\\\\",\"/\");\n",
        "print('URL:', s)\n",
        "df = pd.read_csv(s,header=None,encoding='utf-8')\n"
      ],
      "execution_count": null,
      "outputs": [
        {
          "output_type": "stream",
          "name": "stdout",
          "text": [
            "URL: https://archive.ics.uci.edu/ml/machine-learning-databases/iris/iris.data\n"
          ]
        }
      ]
    },
    {
      "cell_type": "code",
      "metadata": {
        "id": "cqzyfFCC-uTz",
        "outputId": "8c8e72fb-d3ca-4fe9-c0cf-533c27dc582b",
        "colab": {
          "base_uri": "https://localhost:8080/",
          "height": 279
        }
      },
      "source": [
        "# select setosa and versicolor for binary classification\n",
        "y = df.iloc[0:100, 4].values\n",
        "y = np.where(y == 'Iris-setosa', -1, 1)\n",
        "\n",
        "# extract sepal length and petal length\n",
        "X = df.iloc[:100, [0, 2]].values\n",
        "\n",
        "# plot data\n",
        "plt.scatter(X[:50, 0], X[:50, 1],\n",
        "            color='red', marker='o', label='setosa')\n",
        "plt.scatter(X[50:100, 0], X[50:100, 1],\n",
        "            color='blue', marker='x', label='versicolor')\n",
        "\n",
        "plt.xlabel('sepal length [cm]')\n",
        "plt.ylabel('petal length [cm]')\n",
        "plt.legend(loc='upper left')\n",
        "\n",
        "\n",
        "# plt.savefig('images/02_06.png', dpi=300)\n",
        "plt.show()"
      ],
      "execution_count": null,
      "outputs": [
        {
          "output_type": "display_data",
          "data": {
            "text/plain": [
              "<Figure size 432x288 with 1 Axes>"
            ],
            "image/png": "[encoded data removed]"
          },
          "metadata": {
            "needs_background": "light"
          }
        }
      ]
    },
    {
      "cell_type": "code",
      "metadata": {
        "id": "xYEgTzp0s5BN"
      },
      "source": [
        "# function for visualizing decision regions\n",
        "\n",
        "from matplotlib.colors import ListedColormap\n",
        "\n",
        "\n",
        "def plot_decision_regions(X, y, classifier, resolution=0.02):\n",
        "\n",
        "    # setup marker generator and color map\n",
        "    markers = ('s', 'x', 'o', '^', 'v')\n",
        "    colors = ('red', 'blue', 'lightgreen', 'gray', 'cyan')\n",
        "    cmap = ListedColormap(colors[:len(np.unique(y))])\n",
        "\n",
        "    # plot the decision surface\n",
        "    x1_min, x1_max = X[:, 0].min() - 1, X[:, 0].max() + 1\n",
        "    x2_min, x2_max = X[:, 1].min() - 1, X[:, 1].max() + 1\n",
        "    xx1, xx2 = np.meshgrid(np.arange(x1_min, x1_max, resolution),\n",
        "                           np.arange(x2_min, x2_max, resolution))\n",
        "    Z = classifier.predict(np.array([xx1.ravel(), xx2.ravel()]).T)\n",
        "    Z = Z.reshape(xx1.shape)\n",
        "    plt.contourf(xx1, xx2, Z, alpha=0.3, cmap=cmap)\n",
        "    plt.xlim(xx1.min(), xx1.max())\n",
        "    plt.ylim(xx2.min(), xx2.max())\n",
        "\n",
        "    # plot class examples\n",
        "    for idx, cl in enumerate(np.unique(y)):\n",
        "        plt.scatter(x=X[y == cl, 0], \n",
        "                    y=X[y == cl, 1],\n",
        "                    alpha=0.8, \n",
        "                    c=colors[idx],\n",
        "                    marker=markers[idx], \n",
        "                    label=cl, \n",
        "                    edgecolor='black')"
      ],
      "execution_count": null,
      "outputs": []
    },
    {
      "cell_type": "markdown",
      "source": [
        "-----------------------\n",
        "-----------------------\n",
        "-----------------------\n"
      ],
      "metadata": {
        "id": "phGY3AEGn3dz"
      }
    },
    {
      "cell_type": "markdown",
      "metadata": {
        "id": "Pe9kKR3J-uUA"
      },
      "source": [
        "## <font color = 'blue'> **Question 1. Practice with logistic regression** </font>\n",
        "\n",
        "Let's first load the textbook's implementation of logistic regression with gradient descent."
      ]
    },
    {
      "cell_type": "code",
      "metadata": {
        "id": "HSRTXCwz-uUA"
      },
      "source": [
        "class LogisticRegressionGD(object):\n",
        "    \"\"\"Logistic Regression Classifier using gradient descent.\n",
        "\n",
        "    Parameters\n",
        "    ------------\n",
        "    eta : float\n",
        "      Learning rate (between 0.0 and 1.0)\n",
        "    n_iter : int\n",
        "      Passes over the training dataset.\n",
        "    random_state : int\n",
        "      Random number generator seed for random weight\n",
        "      initialization.\n",
        "\n",
        "\n",
        "    Attributes\n",
        "    -----------\n",
        "    w_ : 1d-array\n",
        "      Weights after fitting.\n",
        "    loss_ : list\n",
        "      Logistic loss function value in each epoch.\n",
        "\n",
        "    \"\"\"\n",
        "    def __init__(self, eta=0.05, n_iter=100, random_state=1):\n",
        "        self.eta = eta\n",
        "        self.n_iter = n_iter\n",
        "        self.random_state = random_state\n",
        "\n",
        "    def fit(self, X, y):\n",
        "        \"\"\" Fit training data.\n",
        "\n",
        "        Parameters\n",
        "        ----------\n",
        "        X : {array-like}, shape = [n_examples, n_features]\n",
        "          Training vectors, where n_examples is the number of examples and\n",
        "          n_features is the number of features.\n",
        "        y : array-like, shape = [n_examples]\n",
        "          Target values.\n",
        "\n",
        "        Returns\n",
        "        -------\n",
        "        self : object\n",
        "\n",
        "        \"\"\"\n",
        "        rgen = np.random.RandomState(self.random_state)\n",
        "        self.w_ = rgen.normal(loc=0.0, scale=0.01, size=1 + X.shape[1])\n",
        "        self.loss_ = []\n",
        "\n",
        "        for i in range(self.n_iter):\n",
        "            net_input = self.net_input(X)\n",
        "            output = self.activation(net_input)\n",
        "            errors = (y - output)\n",
        "            self.w_[1:] += self.eta * X.T.dot(errors)\n",
        "            self.w_[0] += self.eta * errors.sum()\n",
        "            \n",
        "            # compute the logistic `loss` \n",
        "            loss = -y.dot(np.log(output)) - ((1 - y).dot(np.log(1 - output)))\n",
        "            self.loss_.append(loss)\n",
        "        return self\n",
        "    \n",
        "    def net_input(self, X):\n",
        "        \"\"\"Calculate net input\"\"\"\n",
        "        return np.dot(X, self.w_[1:]) + self.w_[0]\n",
        "\n",
        "    def activation(self, z):\n",
        "        \"\"\"Compute logistic sigmoid activation\"\"\"\n",
        "        return 1. / (1. + np.exp(-np.clip(z, -250, 250)))\n",
        "\n",
        "    def predict(self, X):\n",
        "        \"\"\"Return class label after unit step\"\"\"\n",
        "        return np.where(self.net_input(X) >= 0.0, 1, 0)\n",
        "        # equivalent to:\n",
        "        # return np.where(self.activation(self.net_input(X)) >= 0.5, 1, 0)"
      ],
      "execution_count": null,
      "outputs": []
    },
    {
      "cell_type": "markdown",
      "metadata": {
        "id": "dMYBgs4E-uUF"
      },
      "source": [
        "Below you can see the first 3 data points of the data set, all labeled as 'setosa'. Let's set the numerical value for 'setosa' to 1. (i.e. y = 1). "
      ]
    },
    {
      "cell_type": "code",
      "metadata": {
        "id": "fyoLJVet-uUG",
        "outputId": "553e244a-6563-447f-88d7-955092b9b92d",
        "colab": {
          "base_uri": "https://localhost:8080/"
        }
      },
      "source": [
        "X[0:3]"
      ],
      "execution_count": null,
      "outputs": [
        {
          "output_type": "execute_result",
          "data": {
            "text/plain": [
              "array([[5.1, 1.4],\n",
              "       [4.9, 1.4],\n",
              "       [4.7, 1.3]])"
            ]
          },
          "metadata": {},
          "execution_count": 9
        }
      ]
    },
    {
      "cell_type": "markdown",
      "metadata": {
        "id": "sPbGfqmf-uUK"
      },
      "source": [
        "\n",
        "Suppose the initial weights of the logistic neuron are w0=0.1, w1=-0.2, w2=0.1\n",
        "\n",
        "<font color = 'blue'> **Q1-1**.  </font> Write the weights after processing data points 0,1,2, with learning rate $\\eta=0.1$ and show your calculations. This is similar to the previous assignment, only done now for the logistic neuron. You can also use *LogisticRegressionGD* to check your calculations. <br>\n",
        "\n",
        "<font color = 'blue'> **Q1-2**.  </font> Given our data $X$, let $X_{d=2}$ and $X_{d=3}$ be the quadratic and cubic features. Using code from the notebook on polynomial regression, generate $X_{d=2}$ and $X_{d=3}$\n",
        "\n",
        "<font color = 'blue'> **Q1-3**.  </font> Using *LogisticRegressionGD* fit $X$, $X_{d=2}$ and $X_{d=3}$. Here you should set $\\eta = 0.1$ and $n_{iter}>1000$. For each of these three cases, report the loss function value for the model computed by *LogisticRegressionGD*.\n",
        "Here it is expected that the loss value decreases as $d$ increases. \n"
      ]
    },
    {
      "cell_type": "code",
      "source": [
        "input_ = np.dot(X1, initial_weights[1:]) + initial_weights[0]\n",
        "print(input_)"
      ],
      "metadata": {
        "id": "RDgru3_msLLF",
        "outputId": "06c33239-974c-4d69-c018-96ea36b0d746",
        "colab": {
          "base_uri": "https://localhost:8080/"
        }
      },
      "execution_count": null,
      "outputs": [
        {
          "output_type": "stream",
          "name": "stdout",
          "text": [
            "[-0.78 -0.74 -0.71]\n"
          ]
        }
      ]
    },
    {
      "cell_type": "code",
      "source": [
        "## sigmoid activation\n",
        "output_ = 1. / (1. + np.exp(-np.clip(input_, -250, 250)))\n",
        "print(output_)"
      ],
      "metadata": {
        "id": "CD9jMiOpsNXf",
        "outputId": "f00e4bb2-b9fa-4df9-f98a-90da6235e914",
        "colab": {
          "base_uri": "https://localhost:8080/"
        }
      },
      "execution_count": null,
      "outputs": [
        {
          "output_type": "stream",
          "name": "stdout",
          "text": [
            "[0.31431989 0.32300414 0.32959884]\n"
          ]
        }
      ]
    },
    {
      "cell_type": "code",
      "source": [
        "## Errors\n",
        "err_ = y1 - output_\n",
        "print(err_)\n",
        "\n",
        "initial_weights[1:] += eta * X1.T.dot(err_)\n",
        "initial_weights[0]  += eta * err_.sum()"
      ],
      "metadata": {
        "id": "oZ2nVYoesOCN",
        "outputId": "38951cf1-25b6-4b9f-bc5f-583c59f6b2b6",
        "colab": {
          "base_uri": "https://localhost:8080/"
        }
      },
      "execution_count": null,
      "outputs": [
        {
          "output_type": "stream",
          "name": "stdout",
          "text": [
            "[-1.31431989 -1.32300414 -1.32959884]\n"
          ]
        }
      ]
    },
    {
      "cell_type": "code",
      "source": [
        "### Weights after first iteration\n",
        "print(initial_weights)\n"
      ],
      "metadata": {
        "id": "BGWPbo1IsOi9",
        "outputId": "968e73de-b67d-47b2-cf6e-36fee219bc65",
        "colab": {
          "base_uri": "https://localhost:8080/"
        }
      },
      "execution_count": null,
      "outputs": [
        {
          "output_type": "stream",
          "name": "stdout",
          "text": [
            "[-0.2966922870014356, -2.1434866272244464, -0.4420732134000984]\n"
          ]
        }
      ]
    },
    {
      "cell_type": "markdown",
      "source": [
        "Q 1.2 Solution"
      ],
      "metadata": {
        "id": "_CoHtbWItXvP"
      }
    },
    {
      "cell_type": "code",
      "source": [
        "from sklearn.preprocessing import PolynomialFeatures\n",
        "X2 = PolynomialFeatures(2).fit_transform(X)\n",
        "X3 = PolynomialFeatures(3).fit_transform(X)\n",
        "print(X2)"
      ],
      "metadata": {
        "id": "RZEiiMg5s6bN",
        "outputId": "6a3a2063-8ebb-45d3-9294-3d06919afba6",
        "colab": {
          "base_uri": "https://localhost:8080/"
        }
      },
      "execution_count": null,
      "outputs": [
        {
          "output_type": "stream",
          "name": "stdout",
          "text": [
            "[[ 1.    5.1   1.4  26.01  7.14  1.96]\n",
            " [ 1.    4.9   1.4  24.01  6.86  1.96]\n",
            " [ 1.    4.7   1.3  22.09  6.11  1.69]\n",
            " [ 1.    4.6   1.5  21.16  6.9   2.25]\n",
            " [ 1.    5.    1.4  25.    7.    1.96]\n",
            " [ 1.    5.4   1.7  29.16  9.18  2.89]\n",
            " [ 1.    4.6   1.4  21.16  6.44  1.96]\n",
            " [ 1.    5.    1.5  25.    7.5   2.25]\n",
            " [ 1.    4.4   1.4  19.36  6.16  1.96]\n",
            " [ 1.    4.9   1.5  24.01  7.35  2.25]\n",
            " [ 1.    5.4   1.5  29.16  8.1   2.25]\n",
            " [ 1.    4.8   1.6  23.04  7.68  2.56]\n",
            " [ 1.    4.8   1.4  23.04  6.72  1.96]\n",
            " [ 1.    4.3   1.1  18.49  4.73  1.21]\n",
            " [ 1.    5.8   1.2  33.64  6.96  1.44]\n",
            " [ 1.    5.7   1.5  32.49  8.55  2.25]\n",
            " [ 1.    5.4   1.3  29.16  7.02  1.69]\n",
            " [ 1.    5.1   1.4  26.01  7.14  1.96]\n",
            " [ 1.    5.7   1.7  32.49  9.69  2.89]\n",
            " [ 1.    5.1   1.5  26.01  7.65  2.25]\n",
            " [ 1.    5.4   1.7  29.16  9.18  2.89]\n",
            " [ 1.    5.1   1.5  26.01  7.65  2.25]\n",
            " [ 1.    4.6   1.   21.16  4.6   1.  ]\n",
            " [ 1.    5.1   1.7  26.01  8.67  2.89]\n",
            " [ 1.    4.8   1.9  23.04  9.12  3.61]\n",
            " [ 1.    5.    1.6  25.    8.    2.56]\n",
            " [ 1.    5.    1.6  25.    8.    2.56]\n",
            " [ 1.    5.2   1.5  27.04  7.8   2.25]\n",
            " [ 1.    5.2   1.4  27.04  7.28  1.96]\n",
            " [ 1.    4.7   1.6  22.09  7.52  2.56]\n",
            " [ 1.    4.8   1.6  23.04  7.68  2.56]\n",
            " [ 1.    5.4   1.5  29.16  8.1   2.25]\n",
            " [ 1.    5.2   1.5  27.04  7.8   2.25]\n",
            " [ 1.    5.5   1.4  30.25  7.7   1.96]\n",
            " [ 1.    4.9   1.5  24.01  7.35  2.25]\n",
            " [ 1.    5.    1.2  25.    6.    1.44]\n",
            " [ 1.    5.5   1.3  30.25  7.15  1.69]\n",
            " [ 1.    4.9   1.5  24.01  7.35  2.25]\n",
            " [ 1.    4.4   1.3  19.36  5.72  1.69]\n",
            " [ 1.    5.1   1.5  26.01  7.65  2.25]\n",
            " [ 1.    5.    1.3  25.    6.5   1.69]\n",
            " [ 1.    4.5   1.3  20.25  5.85  1.69]\n",
            " [ 1.    4.4   1.3  19.36  5.72  1.69]\n",
            " [ 1.    5.    1.6  25.    8.    2.56]\n",
            " [ 1.    5.1   1.9  26.01  9.69  3.61]\n",
            " [ 1.    4.8   1.4  23.04  6.72  1.96]\n",
            " [ 1.    5.1   1.6  26.01  8.16  2.56]\n",
            " [ 1.    4.6   1.4  21.16  6.44  1.96]\n",
            " [ 1.    5.3   1.5  28.09  7.95  2.25]\n",
            " [ 1.    5.    1.4  25.    7.    1.96]\n",
            " [ 1.    7.    4.7  49.   32.9  22.09]\n",
            " [ 1.    6.4   4.5  40.96 28.8  20.25]\n",
            " [ 1.    6.9   4.9  47.61 33.81 24.01]\n",
            " [ 1.    5.5   4.   30.25 22.   16.  ]\n",
            " [ 1.    6.5   4.6  42.25 29.9  21.16]\n",
            " [ 1.    5.7   4.5  32.49 25.65 20.25]\n",
            " [ 1.    6.3   4.7  39.69 29.61 22.09]\n",
            " [ 1.    4.9   3.3  24.01 16.17 10.89]\n",
            " [ 1.    6.6   4.6  43.56 30.36 21.16]\n",
            " [ 1.    5.2   3.9  27.04 20.28 15.21]\n",
            " [ 1.    5.    3.5  25.   17.5  12.25]\n",
            " [ 1.    5.9   4.2  34.81 24.78 17.64]\n",
            " [ 1.    6.    4.   36.   24.   16.  ]\n",
            " [ 1.    6.1   4.7  37.21 28.67 22.09]\n",
            " [ 1.    5.6   3.6  31.36 20.16 12.96]\n",
            " [ 1.    6.7   4.4  44.89 29.48 19.36]\n",
            " [ 1.    5.6   4.5  31.36 25.2  20.25]\n",
            " [ 1.    5.8   4.1  33.64 23.78 16.81]\n",
            " [ 1.    6.2   4.5  38.44 27.9  20.25]\n",
            " [ 1.    5.6   3.9  31.36 21.84 15.21]\n",
            " [ 1.    5.9   4.8  34.81 28.32 23.04]\n",
            " [ 1.    6.1   4.   37.21 24.4  16.  ]\n",
            " [ 1.    6.3   4.9  39.69 30.87 24.01]\n",
            " [ 1.    6.1   4.7  37.21 28.67 22.09]\n",
            " [ 1.    6.4   4.3  40.96 27.52 18.49]\n",
            " [ 1.    6.6   4.4  43.56 29.04 19.36]\n",
            " [ 1.    6.8   4.8  46.24 32.64 23.04]\n",
            " [ 1.    6.7   5.   44.89 33.5  25.  ]\n",
            " [ 1.    6.    4.5  36.   27.   20.25]\n",
            " [ 1.    5.7   3.5  32.49 19.95 12.25]\n",
            " [ 1.    5.5   3.8  30.25 20.9  14.44]\n",
            " [ 1.    5.5   3.7  30.25 20.35 13.69]\n",
            " [ 1.    5.8   3.9  33.64 22.62 15.21]\n",
            " [ 1.    6.    5.1  36.   30.6  26.01]\n",
            " [ 1.    5.4   4.5  29.16 24.3  20.25]\n",
            " [ 1.    6.    4.5  36.   27.   20.25]\n",
            " [ 1.    6.7   4.7  44.89 31.49 22.09]\n",
            " [ 1.    6.3   4.4  39.69 27.72 19.36]\n",
            " [ 1.    5.6   4.1  31.36 22.96 16.81]\n",
            " [ 1.    5.5   4.   30.25 22.   16.  ]\n",
            " [ 1.    5.5   4.4  30.25 24.2  19.36]\n",
            " [ 1.    6.1   4.6  37.21 28.06 21.16]\n",
            " [ 1.    5.8   4.   33.64 23.2  16.  ]\n",
            " [ 1.    5.    3.3  25.   16.5  10.89]\n",
            " [ 1.    5.6   4.2  31.36 23.52 17.64]\n",
            " [ 1.    5.7   4.2  32.49 23.94 17.64]\n",
            " [ 1.    5.7   4.2  32.49 23.94 17.64]\n",
            " [ 1.    6.2   4.3  38.44 26.66 18.49]\n",
            " [ 1.    5.1   3.   26.01 15.3   9.  ]\n",
            " [ 1.    5.7   4.1  32.49 23.37 16.81]]\n"
          ]
        }
      ]
    },
    {
      "cell_type": "code",
      "source": [
        "print(X3)"
      ],
      "metadata": {
        "id": "aoNxIWhTs7Bm",
        "outputId": "ed84ed5c-60e4-402d-f65b-9d7a6159138e",
        "colab": {
          "base_uri": "https://localhost:8080/"
        }
      },
      "execution_count": null,
      "outputs": [
        {
          "output_type": "stream",
          "name": "stdout",
          "text": [
            "[[  1.      5.1     1.4    26.01    7.14    1.96  132.651  36.414   9.996\n",
            "    2.744]\n",
            " [  1.      4.9     1.4    24.01    6.86    1.96  117.649  33.614   9.604\n",
            "    2.744]\n",
            " [  1.      4.7     1.3    22.09    6.11    1.69  103.823  28.717   7.943\n",
            "    2.197]\n",
            " [  1.      4.6     1.5    21.16    6.9     2.25   97.336  31.74   10.35\n",
            "    3.375]\n",
            " [  1.      5.      1.4    25.      7.      1.96  125.     35.      9.8\n",
            "    2.744]\n",
            " [  1.      5.4     1.7    29.16    9.18    2.89  157.464  49.572  15.606\n",
            "    4.913]\n",
            " [  1.      4.6     1.4    21.16    6.44    1.96   97.336  29.624   9.016\n",
            "    2.744]\n",
            " [  1.      5.      1.5    25.      7.5     2.25  125.     37.5    11.25\n",
            "    3.375]\n",
            " [  1.      4.4     1.4    19.36    6.16    1.96   85.184  27.104   8.624\n",
            "    2.744]\n",
            " [  1.      4.9     1.5    24.01    7.35    2.25  117.649  36.015  11.025\n",
            "    3.375]\n",
            " [  1.      5.4     1.5    29.16    8.1     2.25  157.464  43.74   12.15\n",
            "    3.375]\n",
            " [  1.      4.8     1.6    23.04    7.68    2.56  110.592  36.864  12.288\n",
            "    4.096]\n",
            " [  1.      4.8     1.4    23.04    6.72    1.96  110.592  32.256   9.408\n",
            "    2.744]\n",
            " [  1.      4.3     1.1    18.49    4.73    1.21   79.507  20.339   5.203\n",
            "    1.331]\n",
            " [  1.      5.8     1.2    33.64    6.96    1.44  195.112  40.368   8.352\n",
            "    1.728]\n",
            " [  1.      5.7     1.5    32.49    8.55    2.25  185.193  48.735  12.825\n",
            "    3.375]\n",
            " [  1.      5.4     1.3    29.16    7.02    1.69  157.464  37.908   9.126\n",
            "    2.197]\n",
            " [  1.      5.1     1.4    26.01    7.14    1.96  132.651  36.414   9.996\n",
            "    2.744]\n",
            " [  1.      5.7     1.7    32.49    9.69    2.89  185.193  55.233  16.473\n",
            "    4.913]\n",
            " [  1.      5.1     1.5    26.01    7.65    2.25  132.651  39.015  11.475\n",
            "    3.375]\n",
            " [  1.      5.4     1.7    29.16    9.18    2.89  157.464  49.572  15.606\n",
            "    4.913]\n",
            " [  1.      5.1     1.5    26.01    7.65    2.25  132.651  39.015  11.475\n",
            "    3.375]\n",
            " [  1.      4.6     1.     21.16    4.6     1.     97.336  21.16    4.6\n",
            "    1.   ]\n",
            " [  1.      5.1     1.7    26.01    8.67    2.89  132.651  44.217  14.739\n",
            "    4.913]\n",
            " [  1.      4.8     1.9    23.04    9.12    3.61  110.592  43.776  17.328\n",
            "    6.859]\n",
            " [  1.      5.      1.6    25.      8.      2.56  125.     40.     12.8\n",
            "    4.096]\n",
            " [  1.      5.      1.6    25.      8.      2.56  125.     40.     12.8\n",
            "    4.096]\n",
            " [  1.      5.2     1.5    27.04    7.8     2.25  140.608  40.56   11.7\n",
            "    3.375]\n",
            " [  1.      5.2     1.4    27.04    7.28    1.96  140.608  37.856  10.192\n",
            "    2.744]\n",
            " [  1.      4.7     1.6    22.09    7.52    2.56  103.823  35.344  12.032\n",
            "    4.096]\n",
            " [  1.      4.8     1.6    23.04    7.68    2.56  110.592  36.864  12.288\n",
            "    4.096]\n",
            " [  1.      5.4     1.5    29.16    8.1     2.25  157.464  43.74   12.15\n",
            "    3.375]\n",
            " [  1.      5.2     1.5    27.04    7.8     2.25  140.608  40.56   11.7\n",
            "    3.375]\n",
            " [  1.      5.5     1.4    30.25    7.7     1.96  166.375  42.35   10.78\n",
            "    2.744]\n",
            " [  1.      4.9     1.5    24.01    7.35    2.25  117.649  36.015  11.025\n",
            "    3.375]\n",
            " [  1.      5.      1.2    25.      6.      1.44  125.     30.      7.2\n",
            "    1.728]\n",
            " [  1.      5.5     1.3    30.25    7.15    1.69  166.375  39.325   9.295\n",
            "    2.197]\n",
            " [  1.      4.9     1.5    24.01    7.35    2.25  117.649  36.015  11.025\n",
            "    3.375]\n",
            " [  1.      4.4     1.3    19.36    5.72    1.69   85.184  25.168   7.436\n",
            "    2.197]\n",
            " [  1.      5.1     1.5    26.01    7.65    2.25  132.651  39.015  11.475\n",
            "    3.375]\n",
            " [  1.      5.      1.3    25.      6.5     1.69  125.     32.5     8.45\n",
            "    2.197]\n",
            " [  1.      4.5     1.3    20.25    5.85    1.69   91.125  26.325   7.605\n",
            "    2.197]\n",
            " [  1.      4.4     1.3    19.36    5.72    1.69   85.184  25.168   7.436\n",
            "    2.197]\n",
            " [  1.      5.      1.6    25.      8.      2.56  125.     40.     12.8\n",
            "    4.096]\n",
            " [  1.      5.1     1.9    26.01    9.69    3.61  132.651  49.419  18.411\n",
            "    6.859]\n",
            " [  1.      4.8     1.4    23.04    6.72    1.96  110.592  32.256   9.408\n",
            "    2.744]\n",
            " [  1.      5.1     1.6    26.01    8.16    2.56  132.651  41.616  13.056\n",
            "    4.096]\n",
            " [  1.      4.6     1.4    21.16    6.44    1.96   97.336  29.624   9.016\n",
            "    2.744]\n",
            " [  1.      5.3     1.5    28.09    7.95    2.25  148.877  42.135  11.925\n",
            "    3.375]\n",
            " [  1.      5.      1.4    25.      7.      1.96  125.     35.      9.8\n",
            "    2.744]\n",
            " [  1.      7.      4.7    49.     32.9    22.09  343.    230.3   154.63\n",
            "  103.823]\n",
            " [  1.      6.4     4.5    40.96   28.8    20.25  262.144 184.32  129.6\n",
            "   91.125]\n",
            " [  1.      6.9     4.9    47.61   33.81   24.01  328.509 233.289 165.669\n",
            "  117.649]\n",
            " [  1.      5.5     4.     30.25   22.     16.    166.375 121.     88.\n",
            "   64.   ]\n",
            " [  1.      6.5     4.6    42.25   29.9    21.16  274.625 194.35  137.54\n",
            "   97.336]\n",
            " [  1.      5.7     4.5    32.49   25.65   20.25  185.193 146.205 115.425\n",
            "   91.125]\n",
            " [  1.      6.3     4.7    39.69   29.61   22.09  250.047 186.543 139.167\n",
            "  103.823]\n",
            " [  1.      4.9     3.3    24.01   16.17   10.89  117.649  79.233  53.361\n",
            "   35.937]\n",
            " [  1.      6.6     4.6    43.56   30.36   21.16  287.496 200.376 139.656\n",
            "   97.336]\n",
            " [  1.      5.2     3.9    27.04   20.28   15.21  140.608 105.456  79.092\n",
            "   59.319]\n",
            " [  1.      5.      3.5    25.     17.5    12.25  125.     87.5    61.25\n",
            "   42.875]\n",
            " [  1.      5.9     4.2    34.81   24.78   17.64  205.379 146.202 104.076\n",
            "   74.088]\n",
            " [  1.      6.      4.     36.     24.     16.    216.    144.     96.\n",
            "   64.   ]\n",
            " [  1.      6.1     4.7    37.21   28.67   22.09  226.981 174.887 134.749\n",
            "  103.823]\n",
            " [  1.      5.6     3.6    31.36   20.16   12.96  175.616 112.896  72.576\n",
            "   46.656]\n",
            " [  1.      6.7     4.4    44.89   29.48   19.36  300.763 197.516 129.712\n",
            "   85.184]\n",
            " [  1.      5.6     4.5    31.36   25.2    20.25  175.616 141.12  113.4\n",
            "   91.125]\n",
            " [  1.      5.8     4.1    33.64   23.78   16.81  195.112 137.924  97.498\n",
            "   68.921]\n",
            " [  1.      6.2     4.5    38.44   27.9    20.25  238.328 172.98  125.55\n",
            "   91.125]\n",
            " [  1.      5.6     3.9    31.36   21.84   15.21  175.616 122.304  85.176\n",
            "   59.319]\n",
            " [  1.      5.9     4.8    34.81   28.32   23.04  205.379 167.088 135.936\n",
            "  110.592]\n",
            " [  1.      6.1     4.     37.21   24.4    16.    226.981 148.84   97.6\n",
            "   64.   ]\n",
            " [  1.      6.3     4.9    39.69   30.87   24.01  250.047 194.481 151.263\n",
            "  117.649]\n",
            " [  1.      6.1     4.7    37.21   28.67   22.09  226.981 174.887 134.749\n",
            "  103.823]\n",
            " [  1.      6.4     4.3    40.96   27.52   18.49  262.144 176.128 118.336\n",
            "   79.507]\n",
            " [  1.      6.6     4.4    43.56   29.04   19.36  287.496 191.664 127.776\n",
            "   85.184]\n",
            " [  1.      6.8     4.8    46.24   32.64   23.04  314.432 221.952 156.672\n",
            "  110.592]\n",
            " [  1.      6.7     5.     44.89   33.5    25.    300.763 224.45  167.5\n",
            "  125.   ]\n",
            " [  1.      6.      4.5    36.     27.     20.25  216.    162.    121.5\n",
            "   91.125]\n",
            " [  1.      5.7     3.5    32.49   19.95   12.25  185.193 113.715  69.825\n",
            "   42.875]\n",
            " [  1.      5.5     3.8    30.25   20.9    14.44  166.375 114.95   79.42\n",
            "   54.872]\n",
            " [  1.      5.5     3.7    30.25   20.35   13.69  166.375 111.925  75.295\n",
            "   50.653]\n",
            " [  1.      5.8     3.9    33.64   22.62   15.21  195.112 131.196  88.218\n",
            "   59.319]\n",
            " [  1.      6.      5.1    36.     30.6    26.01  216.    183.6   156.06\n",
            "  132.651]\n",
            " [  1.      5.4     4.5    29.16   24.3    20.25  157.464 131.22  109.35\n",
            "   91.125]\n",
            " [  1.      6.      4.5    36.     27.     20.25  216.    162.    121.5\n",
            "   91.125]\n",
            " [  1.      6.7     4.7    44.89   31.49   22.09  300.763 210.983 148.003\n",
            "  103.823]\n",
            " [  1.      6.3     4.4    39.69   27.72   19.36  250.047 174.636 121.968\n",
            "   85.184]\n",
            " [  1.      5.6     4.1    31.36   22.96   16.81  175.616 128.576  94.136\n",
            "   68.921]\n",
            " [  1.      5.5     4.     30.25   22.     16.    166.375 121.     88.\n",
            "   64.   ]\n",
            " [  1.      5.5     4.4    30.25   24.2    19.36  166.375 133.1   106.48\n",
            "   85.184]\n",
            " [  1.      6.1     4.6    37.21   28.06   21.16  226.981 171.166 129.076\n",
            "   97.336]\n",
            " [  1.      5.8     4.     33.64   23.2    16.    195.112 134.56   92.8\n",
            "   64.   ]\n",
            " [  1.      5.      3.3    25.     16.5    10.89  125.     82.5    54.45\n",
            "   35.937]\n",
            " [  1.      5.6     4.2    31.36   23.52   17.64  175.616 131.712  98.784\n",
            "   74.088]\n",
            " [  1.      5.7     4.2    32.49   23.94   17.64  185.193 136.458 100.548\n",
            "   74.088]\n",
            " [  1.      5.7     4.2    32.49   23.94   17.64  185.193 136.458 100.548\n",
            "   74.088]\n",
            " [  1.      6.2     4.3    38.44   26.66   18.49  238.328 165.292 114.638\n",
            "   79.507]\n",
            " [  1.      5.1     3.     26.01   15.3     9.    132.651  78.03   45.9\n",
            "   27.   ]\n",
            " [  1.      5.7     4.1    32.49   23.37   16.81  185.193 133.209  95.817\n",
            "   68.921]]\n"
          ]
        }
      ]
    },
    {
      "cell_type": "markdown",
      "source": [
        "1 1.3 Solution"
      ],
      "metadata": {
        "id": "M0zYc9xWt6kQ"
      }
    },
    {
      "cell_type": "code",
      "source": [
        "modl_X = LogisticRegressionGD(eta=0.1, n_iter=1100, random_state=10).fit(X, y)\n",
        "loss_X = modl_X.loss_\n",
        "weights_X = modl_X.w_"
      ],
      "metadata": {
        "id": "mkavSqR_s7d5",
        "outputId": "f2ed6949-ce97-439b-87dd-5135e4d7842b",
        "colab": {
          "base_uri": "https://localhost:8080/"
        }
      },
      "execution_count": null,
      "outputs": [
        {
          "output_type": "stream",
          "name": "stderr",
          "text": [
            "/usr/local/lib/python3.7/dist-packages/ipykernel_launcher.py:56: RuntimeWarning: divide by zero encountered in log\n"
          ]
        }
      ]
    },
    {
      "cell_type": "code",
      "source": [
        "plot_decision_regions(X=X, y=y, classifier=modl_X)"
      ],
      "metadata": {
        "id": "vCy87UiJs7wA",
        "outputId": "c202334f-d2b2-4dec-e8d9-de7ae9b0c1f6",
        "colab": {
          "base_uri": "https://localhost:8080/",
          "height": 266
        }
      },
      "execution_count": null,
      "outputs": [
        {
          "output_type": "display_data",
          "data": {
            "text/plain": [
              "<Figure size 432x288 with 1 Axes>"
            ],
            "image/png": "[encoded data removed]"
          },
          "metadata": {
            "needs_background": "light"
          }
        }
      ]
    },
    {
      "cell_type": "code",
      "source": [
        "modl_X2 = LogisticRegressionGD(eta=0.1, n_iter=1050, random_state=1).fit(X2, y)\n",
        "loss_X2 = modl_X2.loss_\n",
        "weights_X2 = modl_X2.w_\n"
      ],
      "metadata": {
        "id": "HoPFI7Kbs7_d",
        "outputId": "0b1ca3bd-92a2-4d98-aaa9-68954b2a018e",
        "colab": {
          "base_uri": "https://localhost:8080/"
        }
      },
      "execution_count": null,
      "outputs": [
        {
          "output_type": "stream",
          "name": "stderr",
          "text": [
            "/usr/local/lib/python3.7/dist-packages/ipykernel_launcher.py:56: RuntimeWarning: divide by zero encountered in log\n"
          ]
        }
      ]
    },
    {
      "cell_type": "code",
      "source": [
        "modl_X3 = LogisticRegressionGD(eta=0.1, n_iter=1020, random_state=1).fit(X3, y)\n",
        "loss_X3 = modl_X3.loss_\n",
        "weights_X3 = modl_X3.w_"
      ],
      "metadata": {
        "id": "fdFJ5svCs8N9",
        "outputId": "89bcbf85-e61b-4da0-e4c8-36178f021224",
        "colab": {
          "base_uri": "https://localhost:8080/"
        }
      },
      "execution_count": null,
      "outputs": [
        {
          "output_type": "stream",
          "name": "stderr",
          "text": [
            "/usr/local/lib/python3.7/dist-packages/ipykernel_launcher.py:56: RuntimeWarning: divide by zero encountered in log\n"
          ]
        }
      ]
    },
    {
      "cell_type": "code",
      "source": [
        "print(\"Loss for X = \", abs(np.nanmean(loss_X)))\n",
        "print(\"\\nLoss for X2 = \", abs(np.nanmean(loss_X2)))\n",
        "print(\"\\nLoss for X3 = \", abs(np.nanmean(loss_X3)))\n"
      ],
      "metadata": {
        "id": "iTqXFA5as8cO",
        "outputId": "f1bda70a-8501-4eb5-e1ec-172e6d54055d",
        "colab": {
          "base_uri": "https://localhost:8080/"
        }
      },
      "execution_count": null,
      "outputs": [
        {
          "output_type": "stream",
          "name": "stdout",
          "text": [
            "Loss for X =  3764.2100567340385\n",
            "\n",
            "Loss for X2 =  14.816810430178773\n",
            "\n",
            "Loss for X3 =  11.293616159407442\n"
          ]
        }
      ]
    },
    {
      "cell_type": "markdown",
      "source": [
        "\n",
        "Here, we can clearly observe the loss function value decrease as we increase the value of d,\n",
        "i.e,\n",
        "loss_X[0] > loss_X2[0] > loss_X3[0]\n"
      ],
      "metadata": {
        "id": "KhMEuIdZu2Ba"
      }
    },
    {
      "cell_type": "code",
      "source": [],
      "metadata": {
        "id": "crgy-sRcs9HQ"
      },
      "execution_count": null,
      "outputs": []
    },
    {
      "cell_type": "code",
      "metadata": {
        "id": "HV6DRoDxG1Rl",
        "outputId": "b9b2e1af-0df1-40c8-8efa-47412d017fd8",
        "colab": {
          "base_uri": "https://localhost:8080/",
          "height": 236
        }
      },
      "source": [
        "# Grader's area\n",
        "\n",
        "maxScore = maxScore +12\n",
        "#M[1,1] = \n",
        "#M[1,2] = \n",
        "#M[1,3] ="
      ],
      "execution_count": null,
      "outputs": [
        {
          "output_type": "error",
          "ename": "NameError",
          "evalue": "ignored",
          "traceback": [
            "\u001b[0;31m---------------------------------------------------------------------------\u001b[0m",
            "\u001b[0;31mNameError\u001b[0m                                 Traceback (most recent call last)",
            "\u001b[0;32m<ipython-input-15-3a11ca041355>\u001b[0m in \u001b[0;36m<module>\u001b[0;34m\u001b[0m\n\u001b[1;32m      1\u001b[0m \u001b[0;31m# Grader's area\u001b[0m\u001b[0;34m\u001b[0m\u001b[0;34m\u001b[0m\u001b[0;34m\u001b[0m\u001b[0m\n\u001b[1;32m      2\u001b[0m \u001b[0;34m\u001b[0m\u001b[0m\n\u001b[0;32m----> 3\u001b[0;31m \u001b[0mmaxScore\u001b[0m \u001b[0;34m=\u001b[0m \u001b[0mmaxScore\u001b[0m \u001b[0;34m+\u001b[0m\u001b[0;36m12\u001b[0m\u001b[0;34m\u001b[0m\u001b[0;34m\u001b[0m\u001b[0m\n\u001b[0m\u001b[1;32m      4\u001b[0m \u001b[0;31m#M[1,1] =\u001b[0m\u001b[0;34m\u001b[0m\u001b[0;34m\u001b[0m\u001b[0;34m\u001b[0m\u001b[0m\n\u001b[1;32m      5\u001b[0m \u001b[0;31m#M[1,2] =\u001b[0m\u001b[0;34m\u001b[0m\u001b[0;34m\u001b[0m\u001b[0;34m\u001b[0m\u001b[0m\n",
            "\u001b[0;31mNameError\u001b[0m: name 'maxScore' is not defined"
          ]
        }
      ]
    },
    {
      "cell_type": "markdown",
      "source": [
        "-----------------------\n",
        "-----------------------\n",
        "-----------------------\n"
      ],
      "metadata": {
        "id": "6grYJ9spn6C1"
      }
    },
    {
      "cell_type": "markdown",
      "metadata": {
        "id": "zW8T7xf0-uUL"
      },
      "source": [
        "## <font color = 'blue'> **Question 2. A theoretical question** </font>\n",
        "\n",
        "This question is about a theoretical explanation for what you observed in question 1(iii). \n",
        "\n",
        "<br>\n",
        "\n",
        "Suppose $f_1$ is a model that optimally fits the data $(X,y)$, and $f_2$ is another model that optimally fits the data $(X_2,y)$ where $X_2$ are the quadratic features of $X$. Then the loss function value obtained by $f_2$ is **always** going to be at least equal to that for $f_1$. Try to come up with a solid mathematical argument that justifies this claim. [Note: as with anything else, feel free to discuss this on Canvas]"
      ]
    },
    {
      "cell_type": "markdown",
      "source": [
        "\n",
        "\n",
        "```\n",
        "# This is formatted as code\n",
        "```\n",
        "\n",
        "Assuming data X is of the form [a, b], the second-degreee quadratic polynomial \n",
        "features for X would be [1, a, b, a^2, ab, b^2]. \n",
        "Loss funtion is generally a lower value if the number of correct predictions are higher. \n",
        "That is if the number of TruePositives (TP) and FalseNegatives(FN) are higher. If the model has more \n",
        "False Positives and True Negatives, the loss function value gets higher. \n",
        "Inorder to get more right predictions, the new columns added must provide better correlations to the outcome y, in a way the \n",
        "data is more separable. \n",
        "The additional features generated in a quadratic feature X2 scenario are (a^2, ab, b^2).\n",
        "For example, if the model f is a linear classifier. (a,b) features in X are correlated to help developing a linear classifier, then\n",
        "a^2, b^2 also will be correlated. However feature 'ab' might add more variance into the model reducing the models capacity to make\n",
        "more accurate predictions leading to a larger loss function. \n",
        "If the model under consideration is a decision tree based algorithm, then feature 'ab' might be given very less weight (importance),\n",
        "and hence it might not make a difference in prediction capabilities if 'ab' is not correlated and hence the loss function might be \n",
        "equal to X.\n",
        "if the newly generated feature 'ab' reduces bias and is a more correlated with the outcomes leading to a better classifier, then the \n",
        "resultant loss function f1 (with data X2) will be lesser than f (with data X). \n",
        "In conclusion, the loss function difference depends on the model being used and the inherent nature of the data. Depending \n",
        "on what kind of variance the quadratic features add in the classification/regression problem, the loss function could be same, higher or lower \n",
        "compared to the loss function using raw X data."
      ],
      "metadata": {
        "id": "nRk7QbZLH_DY"
      }
    },
    {
      "cell_type": "code",
      "metadata": {
        "id": "WJrBDgJYBQZL"
      },
      "source": [
        "# Grader's area\n",
        "\n",
        "maxScore = maxScore + 4\n",
        "#M[2,1] = \n"
      ],
      "execution_count": null,
      "outputs": []
    },
    {
      "cell_type": "markdown",
      "source": [
        "-----------------------\n",
        "-----------------------\n",
        "-----------------------\n"
      ],
      "metadata": {
        "id": "vxiK-qoin6_-"
      }
    },
    {
      "cell_type": "markdown",
      "metadata": {
        "id": "YMEcdAp3-uT-"
      },
      "source": [
        "##  <font color = 'blue'> **Question 3. Logistic Regression: How 'unfair' can it be?**  </font>\n",
        "\n",
        "We have seen that the inductive bias of an SVC guarantees that when the dataset is linearly separable, SVC will return a hyperplane that is at exactly the same distance from the two classes.  But what about logistic regression? Can we guarantee that it can also be at least partially fair?\n",
        "\n",
        "The answer is **negative**. We can  demonstrate how logistic regression can be 'unfair' by constructing a dataset with the properties that: <br> \n",
        "\n",
        "**a.** the data set is linearly separable  <br>\n",
        "**b.** the optimal logistic regression model corresponds to a hyperplane that nearly 'touches' one of the two classes, i.e. it gives a very big margin to the one of the two classes and very small margin for the other class.  <br>\n",
        "\n",
        "Demonstrate your answer as follows: <br>\n",
        "\n",
        "<font color = 'blue'> **Q3-1**.  </font>\n",
        " Plot the data points, as we did above for the iris data set. This will show that your data set is linearly separable. <br>\n",
        "<font color = 'blue'> **Q3-2**.  </font> Calculate the optimal logistic neuron weights using the function *LogisticRegressionGD* from question 1. <br>\n",
        "<font color = 'blue'> **Q3-3**. </font>  Plot the decision regions to demonstrate how the learned separation line is unfair. \n",
        "\n",
        "**Hint**: Try small datasets.\n",
        "**Note**: It's best to use fresh variables for your dataset, because the previous $X,y$ are re-used in question 4.\n"
      ]
    },
    {
      "cell_type": "code",
      "metadata": {
        "id": "LejWjUeapllz"
      },
      "source": [
        "# your answers go here"
      ],
      "execution_count": null,
      "outputs": []
    },
    {
      "cell_type": "markdown",
      "source": [
        "Q 3.1 Solution\n"
      ],
      "metadata": {
        "id": "PogEEDMuwnK0"
      }
    },
    {
      "cell_type": "code",
      "source": [
        "## creating our own linearly separable data \n",
        "import matplotlib.pyplot as plt\n",
        "from sklearn import datasets"
      ],
      "metadata": {
        "id": "eth9Vmwfwl4r"
      },
      "execution_count": null,
      "outputs": []
    },
    {
      "cell_type": "code",
      "source": [
        "X, y = datasets.make_blobs(n_samples=1000, centers=2, n_features=2, center_box=(0, 20))\n",
        "plt.plot(X[:, 0][y == 0], X[:, 1][y == 0], 'g^')\n",
        "plt.plot(X[:, 0][y == 1], X[:, 1][y == 1], 'bs')\n",
        "plt.show()"
      ],
      "metadata": {
        "id": "mTPbCgxvkoA9",
        "outputId": "93bd6f85-8922-46e4-c646-2ce596a7ca28",
        "colab": {
          "base_uri": "https://localhost:8080/",
          "height": 265
        }
      },
      "execution_count": null,
      "outputs": [
        {
          "output_type": "display_data",
          "data": {
            "text/plain": [
              "<Figure size 432x288 with 1 Axes>"
            ],
            "image/png": "[encoded data removed]"
          },
          "metadata": {
            "needs_background": "light"
          }
        }
      ]
    },
    {
      "cell_type": "code",
      "source": [],
      "metadata": {
        "id": "r_p1aDm6wyeC"
      },
      "execution_count": null,
      "outputs": []
    },
    {
      "cell_type": "markdown",
      "source": [
        "Q 3.2 Solution"
      ],
      "metadata": {
        "id": "qghyQNbuw1WJ"
      }
    },
    {
      "cell_type": "code",
      "source": [
        "modl_X_new = LogisticRegressionGD(eta=0.1, n_iter=1050, random_state=1).fit(X, y)"
      ],
      "metadata": {
        "id": "ei6iyaInwzd_",
        "outputId": "4df318ff-2573-464d-8808-ef759559689b",
        "colab": {
          "base_uri": "https://localhost:8080/"
        }
      },
      "execution_count": null,
      "outputs": [
        {
          "output_type": "stream",
          "name": "stderr",
          "text": [
            "/usr/local/lib/python3.7/dist-packages/ipykernel_launcher.py:56: RuntimeWarning: divide by zero encountered in log\n"
          ]
        }
      ]
    },
    {
      "cell_type": "code",
      "source": [
        "### weights for the above data are as below\n",
        "print(\"Optimal Weights for the above Logistic Neuron Model are =\",  modl_X_new.w_)\n"
      ],
      "metadata": {
        "id": "c2a1jKIZwzlf",
        "outputId": "2ef9973b-d143-41ff-bdf3-1f0d2445700c",
        "colab": {
          "base_uri": "https://localhost:8080/"
        }
      },
      "execution_count": null,
      "outputs": [
        {
          "output_type": "stream",
          "name": "stdout",
          "text": [
            "Optimal Weights for the above Logistic Neuron Model are = [  52.76693373  433.22067814 -557.06607534]\n"
          ]
        }
      ]
    },
    {
      "cell_type": "code",
      "source": [],
      "metadata": {
        "id": "RzsWYXQjwzrh"
      },
      "execution_count": null,
      "outputs": []
    },
    {
      "cell_type": "markdown",
      "source": [
        "Q 3.3 Solution"
      ],
      "metadata": {
        "id": "ZWaD2HeIxA4Y"
      }
    },
    {
      "cell_type": "code",
      "source": [
        "plot_decision_regions(X=X, y=y, classifier=modl_X_new)"
      ],
      "metadata": {
        "id": "7Y2np0sXwzwz",
        "outputId": "b3fb5907-0d5d-4aa8-a829-cf2c8a61c3af",
        "colab": {
          "base_uri": "https://localhost:8080/",
          "height": 265
        }
      },
      "execution_count": null,
      "outputs": [
        {
          "output_type": "display_data",
          "data": {
            "text/plain": [
              "<Figure size 432x288 with 1 Axes>"
            ],
            "image/png": "[encoded data removed]"
          },
          "metadata": {
            "needs_background": "light"
          }
        }
      ]
    },
    {
      "cell_type": "markdown",
      "source": [
        "    Here we are clearly able to recognize that the hyperplane separating the 2 classes is almost touching one class\n",
        "    and leaves out a large margin on the other class. \n",
        "    \n",
        "    Now lets try using sklearn logistic regression package to see if adjusting 'C' solves this issue."
      ],
      "metadata": {
        "id": "0yg6zKlAxKvO"
      }
    },
    {
      "cell_type": "code",
      "metadata": {
        "id": "ayVRy0pxlBDP"
      },
      "source": [
        "# Grader's area\n",
        "\n",
        "maxScore = maxScore + 12\n",
        "#M[3,1] = \n",
        "#M[3,2] = \n",
        "#M[3,3] = \n"
      ],
      "execution_count": null,
      "outputs": []
    },
    {
      "cell_type": "markdown",
      "source": [
        "<font color = 'blue'> **Q3-4**.  </font> The standard scikit-learn implementation of logistic regression uses regularization by default ($C=1$).  Can you come up with a linearly separable dataset that makes that **default** implementation fail? <br>\n",
        "\n",
        "[Note: This is an experimental question. You should be able to use the example from above, or modify it, and make the default implementation fail.]"
      ],
      "metadata": {
        "id": "Z2ZazaTq1GzQ"
      }
    },
    {
      "cell_type": "code",
      "source": [
        "from sklearn.linear_model import LogisticRegression\n",
        "modl_sklearn_LR = LogisticRegression(C = 3).fit(X, y)\n",
        "plot_decision_regions(X=X, y=y, classifier=modl_sklearn_LR)\n"
      ],
      "metadata": {
        "id": "yrSMBWyD2mKC",
        "outputId": "d735af5c-6da2-460c-ccfc-9605ac2362b7",
        "colab": {
          "base_uri": "https://localhost:8080/",
          "height": 265
        }
      },
      "execution_count": null,
      "outputs": [
        {
          "output_type": "display_data",
          "data": {
            "text/plain": [
              "<Figure size 432x288 with 1 Axes>"
            ],
            "image/png": "[encoded data removed]"
          },
          "metadata": {
            "needs_background": "light"
          }
        }
      ]
    },
    {
      "cell_type": "markdown",
      "source": [
        "Here we can observe that adjusting C=3 creates a middle hyperplane thats almost equidistant from both classes. "
      ],
      "metadata": {
        "id": "t_wfI5MXxYr6"
      }
    },
    {
      "cell_type": "code",
      "source": [
        "# Grader's area\n",
        "maxScore = maxScore + 4\n",
        "\n",
        "# M[3,4] = "
      ],
      "metadata": {
        "id": "ZlN9ptsC2rz_"
      },
      "execution_count": null,
      "outputs": []
    },
    {
      "cell_type": "markdown",
      "source": [
        "-----------------------\n",
        "-----------------------\n",
        "-----------------------\n"
      ],
      "metadata": {
        "id": "kffsOAaln8C_"
      }
    },
    {
      "cell_type": "markdown",
      "source": [
        "##  <font color = 'blue'> **Question 4. SVC and classification margin**  </font>\n",
        "\n",
        "The Iris dataset defined in above cells is linearly separable. \n",
        "\n",
        "<font color = 'blue'> **Q4-1.**  </font> Use a [linear SVC](https://scikit-learn.org/stable/modules/generated/sklearn.svm.LinearSVC.html) to learn a hyperplane $y=w_1x_1 +w_2x_2 +b$ that maximizes the margin for this Iris dataset. In your answer, specify a setting for the hyperparameter $C$ that reduces the amount of regularization, i.e. it incentivizes very small slacks.\n",
        "\n",
        "<font color = 'blue'> **Q4-2.** </font> Extract the coefficients $w$ and the intercept $b$ from the learned SVC. Find the the 2-norm of $w$, $s = ||w||_2$.\n",
        "[Hint: Read the documentation in order to access the coefficients] \n",
        "\n",
        "<font color = 'blue'> **Q4-3.** </font> Set $w = w/s$ and $b=b/s$. This changes the numerical definition of the separation line, but the line is still the same.  \n",
        "\n",
        "<font color = 'blue'> **Q4-4.** </font> With the new $w$ and $b$, calculate $wx^T - b$ for each point $x$ in our dataset. This will give a range of values, let $\\gamma$ be the smallest one in absolute value. This $\\gamma$ is the margin (in fact there should be two points $x_1$ and $x_2$ of different labels, that give $wx_1^T - b = \\gamma$ and $wx_1^T - b = -\\gamma$). \n",
        "\n",
        "\n",
        "**Note:** as with anything else, feel free to discuss this on Canvas."
      ],
      "metadata": {
        "id": "uVUZKNB2kod6"
      }
    },
    {
      "cell_type": "code",
      "source": [],
      "metadata": {
        "id": "D29Kj3lzxkZV"
      },
      "execution_count": null,
      "outputs": []
    },
    {
      "cell_type": "markdown",
      "source": [
        "Q 4.1 Solution"
      ],
      "metadata": {
        "id": "iVKErCunxl7N"
      }
    },
    {
      "cell_type": "code",
      "source": [
        "### Reading IRIS data again\n",
        "# select setosa and versicolor for binary classification\n",
        "y = df.iloc[0:100, 4].values\n",
        "y = np.where(y == 'Iris-setosa', -1, 1)\n",
        "# extract sepal length and petal length\n",
        "X = df.iloc[:100, [0, 2]].values\n"
      ],
      "metadata": {
        "id": "TQimPoazxkMi"
      },
      "execution_count": null,
      "outputs": []
    },
    {
      "cell_type": "code",
      "source": [
        "from sklearn.svm import LinearSVC\n",
        "\n",
        "modl_linearSVC = LinearSVC(C = 2).fit(X, y)\n",
        "plot_decision_regions(X=X, y=y, classifier=modl_linearSVC)\n"
      ],
      "metadata": {
        "id": "GfE72mR9xkFx",
        "outputId": "6c40bebc-e34c-48b2-b4f8-f53f5e004149",
        "colab": {
          "base_uri": "https://localhost:8080/",
          "height": 301
        }
      },
      "execution_count": null,
      "outputs": [
        {
          "output_type": "stream",
          "name": "stderr",
          "text": [
            "/usr/local/lib/python3.7/dist-packages/sklearn/svm/_base.py:1208: ConvergenceWarning: Liblinear failed to converge, increase the number of iterations.\n",
            "  ConvergenceWarning,\n"
          ]
        },
        {
          "output_type": "display_data",
          "data": {
            "text/plain": [
              "<Figure size 432x288 with 1 Axes>"
            ],
            "image/png": "[encoded data removed]"
          },
          "metadata": {
            "needs_background": "light"
          }
        }
      ]
    },
    {
      "cell_type": "code",
      "source": [],
      "metadata": {
        "id": "elNOxls5xkCJ"
      },
      "execution_count": null,
      "outputs": []
    },
    {
      "cell_type": "markdown",
      "source": [
        "Q 4.2 Solution"
      ],
      "metadata": {
        "id": "Cud_k233x0oI"
      }
    },
    {
      "cell_type": "code",
      "source": [
        "## weights\n",
        "modl_linearSVC.coef_"
      ],
      "metadata": {
        "id": "ca5th-9Ixje0",
        "outputId": "b78ec144-dc9f-41af-b973-f2d3cc91fb83",
        "colab": {
          "base_uri": "https://localhost:8080/"
        }
      },
      "execution_count": null,
      "outputs": [
        {
          "output_type": "execute_result",
          "data": {
            "text/plain": [
              "array([[-0.64405774,  1.38579171]])"
            ]
          },
          "metadata": {},
          "execution_count": 59
        }
      ]
    },
    {
      "cell_type": "code",
      "source": [
        "## Intercept\n",
        "modl_linearSVC.intercept_"
      ],
      "metadata": {
        "id": "Dy5CINTkx5tH",
        "outputId": "8ac551eb-c798-4d2f-e89a-792cddd8f3dc",
        "colab": {
          "base_uri": "https://localhost:8080/"
        }
      },
      "execution_count": null,
      "outputs": [
        {
          "output_type": "execute_result",
          "data": {
            "text/plain": [
              "array([-0.22156523])"
            ]
          },
          "metadata": {},
          "execution_count": 60
        }
      ]
    },
    {
      "cell_type": "markdown",
      "source": [
        "Hence, the hyperplane equation is as follows:\n",
        "    y = -0.644x1 + 1.3857x2 - 0.221"
      ],
      "metadata": {
        "id": "PH4YxGCiyCY-"
      }
    },
    {
      "cell_type": "code",
      "source": [
        "## Finding 2-norm of the above weights\n",
        "intercept_SVC = modl_linearSVC.intercept_\n",
        "weights_SVC = modl_linearSVC.coef_\n",
        "norm2 = np.linalg.norm(weights_SVC, ord = 2)\n",
        "print(\"2-norm s = \", norm2)\n"
      ],
      "metadata": {
        "id": "OmW0pGVrx56F",
        "outputId": "f88d384f-6e5b-4c83-a4da-39fbabbbe95d",
        "colab": {
          "base_uri": "https://localhost:8080/"
        }
      },
      "execution_count": null,
      "outputs": [
        {
          "output_type": "stream",
          "name": "stdout",
          "text": [
            "2-norm s =  1.5281456170187526\n"
          ]
        }
      ]
    },
    {
      "cell_type": "markdown",
      "source": [
        "Q 4.3 Solution"
      ],
      "metadata": {
        "id": "8RbpvAMsyQpx"
      }
    },
    {
      "cell_type": "code",
      "source": [
        "weights_SVC1 = weights_SVC/norm2\n",
        "intercept_SVC1 = intercept_SVC/norm2\n",
        "intercept_SVC1 = intercept_SVC1[0]\n",
        "print(\"weights= \",weights_SVC1)\n",
        "print(\"intercept= \",intercept_SVC1)\n"
      ],
      "metadata": {
        "id": "SEiQgnUDx6Ai",
        "outputId": "655ecdd7-6789-4ce4-ff88-914f272e56da",
        "colab": {
          "base_uri": "https://localhost:8080/"
        }
      },
      "execution_count": null,
      "outputs": [
        {
          "output_type": "stream",
          "name": "stdout",
          "text": [
            "weights=  [[-0.42146359  0.90684532]]\n",
            "intercept=  -0.14498960658818805\n"
          ]
        }
      ]
    },
    {
      "cell_type": "markdown",
      "source": [
        "Q 4.4 Soltuion"
      ],
      "metadata": {
        "id": "HICs-Umky687"
      }
    },
    {
      "cell_type": "code",
      "source": [
        "## apply w1x1T - b for datapoints in first column, and w2x2T-b for all elements in second column\n",
        "\n",
        "X_1 = list(X[:, 0]) ## first column  \n",
        "X_2 = list(X[:, 1]) ## other column\n",
        "\n",
        "gamma1 = [weights_SVC1[0][0]*x - intercept_SVC1 for x in X_1]\n",
        "print(gamma1)"
      ],
      "metadata": {
        "id": "VfkTczBgy-ld",
        "outputId": "0818c164-9abb-466e-84cf-f5241947ae2a",
        "colab": {
          "base_uri": "https://localhost:8080/"
        }
      },
      "execution_count": null,
      "outputs": [
        {
          "output_type": "stream",
          "name": "stdout",
          "text": [
            "[-2.00447469677308, -1.920181978994207, -1.8358892612153337, -1.7937429023258966, -1.9623283378836436, -2.13091377344139, -1.7937429023258966, -1.9623283378836436, -1.7094501845470238, -1.920181978994207, -2.13091377344139, -1.8780356201047703, -1.8780356201047703, -1.6673038256575872, -2.2994992089991366, -2.2573528501097, -2.13091377344139, -2.00447469677308, -2.2573528501097, -2.00447469677308, -2.13091377344139, -2.00447469677308, -1.7937429023258966, -2.00447469677308, -1.8780356201047703, -1.9623283378836436, -1.9623283378836436, -2.046621055662517, -2.046621055662517, -1.8358892612153337, -1.8780356201047703, -2.13091377344139, -2.046621055662517, -2.1730601323308267, -1.920181978994207, -1.9623283378836436, -2.1730601323308267, -1.920181978994207, -1.7094501845470238, -2.00447469677308, -1.9623283378836436, -1.7515965434364604, -1.7094501845470238, -1.9623283378836436, -2.00447469677308, -1.8780356201047703, -2.00447469677308, -1.7937429023258966, -2.0887674145519535, -1.9623283378836436, -2.805255515672376, -2.5523773623357564, -2.7631091567829396, -2.1730601323308267, -2.594523721225193, -2.2573528501097, -2.5102310034463198, -1.920181978994207, -2.6366700801146297, -2.046621055662517, -1.9623283378836436, -2.3416455678885733, -2.38379192677801, -2.4259382856674465, -2.2152064912202634, -2.6788164390040663, -2.2152064912202634, -2.2994992089991366, -2.468084644556883, -2.2152064912202634, -2.3416455678885733, -2.4259382856674465, -2.5102310034463198, -2.4259382856674465, -2.5523773623357564, -2.6366700801146297, -2.720962797893503, -2.6788164390040663, -2.38379192677801, -2.2573528501097, -2.1730601323308267, -2.1730601323308267, -2.2994992089991366, -2.38379192677801, -2.13091377344139, -2.38379192677801, -2.6788164390040663, -2.5102310034463198, -2.2152064912202634, -2.1730601323308267, -2.1730601323308267, -2.4259382856674465, -2.2994992089991366, -1.9623283378836436, -2.2152064912202634, -2.2573528501097, -2.2573528501097, -2.468084644556883, -2.00447469677308, -2.2573528501097]\n"
          ]
        }
      ]
    },
    {
      "cell_type": "code",
      "source": [
        "print(min(gamma1))"
      ],
      "metadata": {
        "id": "F31X5c1Dx6Lp",
        "outputId": "4d37c8cb-6aec-4ce2-ec5a-92637a5416c0",
        "colab": {
          "base_uri": "https://localhost:8080/"
        }
      },
      "execution_count": null,
      "outputs": [
        {
          "output_type": "stream",
          "name": "stdout",
          "text": [
            "-2.805255515672376\n"
          ]
        }
      ]
    },
    {
      "cell_type": "code",
      "source": [
        "gamma2 = [weights_SVC1[0][1]*x - intercept_SVC1 for x in X_2]\n",
        "print(gamma2)"
      ],
      "metadata": {
        "id": "hm5lVAFdzHhP",
        "outputId": "4bb21c50-4f02-4b4e-95b0-9a086f765344",
        "colab": {
          "base_uri": "https://localhost:8080/"
        }
      },
      "execution_count": null,
      "outputs": [
        {
          "output_type": "stream",
          "name": "stdout",
          "text": [
            "[1.4145730614044165, 1.4145730614044165, 1.3238885289175433, 1.5052575938912898, 1.4145730614044165, 1.6866266588650367, 1.4145730614044165, 1.5052575938912898, 1.4145730614044165, 1.5052575938912898, 1.5052575938912898, 1.5959421263781635, 1.4145730614044165, 1.1425194639437963, 1.2332039964306696, 1.5052575938912898, 1.3238885289175433, 1.4145730614044165, 1.6866266588650367, 1.5052575938912898, 1.6866266588650367, 1.5052575938912898, 1.0518349314569226, 1.6866266588650367, 1.8679957238387837, 1.5959421263781635, 1.5959421263781635, 1.5052575938912898, 1.4145730614044165, 1.5959421263781635, 1.5959421263781635, 1.5052575938912898, 1.5052575938912898, 1.4145730614044165, 1.5052575938912898, 1.2332039964306696, 1.3238885289175433, 1.5052575938912898, 1.3238885289175433, 1.5052575938912898, 1.3238885289175433, 1.3238885289175433, 1.3238885289175433, 1.5959421263781635, 1.8679957238387837, 1.4145730614044165, 1.5959421263781635, 1.4145730614044165, 1.5052575938912898, 1.4145730614044165, 4.407162633471241, 4.225793568497494, 4.588531698444989, 3.7723709060631263, 4.316478100984368, 4.225793568497494, 4.407162633471241, 3.137579178655012, 4.316478100984368, 3.6816863735762526, 3.318948243628759, 3.9537399710368732, 3.7723709060631263, 4.407162633471241, 3.4096327761156324, 4.135109036010621, 4.225793568497494, 3.8630554385499996, 4.225793568497494, 3.6816863735762526, 4.497847165958114, 3.7723709060631263, 4.588531698444989, 4.407162633471241, 4.0444245035237465, 4.135109036010621, 4.497847165958114, 4.6792162309318615, 4.225793568497494, 3.318948243628759, 3.5910018410893794, 3.500317308602506, 3.6816863735762526, 4.769900763418734, 4.225793568497494, 4.225793568497494, 4.407162633471241, 4.135109036010621, 3.8630554385499996, 3.7723709060631263, 4.135109036010621, 4.316478100984368, 3.7723709060631263, 3.137579178655012, 3.9537399710368732, 3.9537399710368732, 3.9537399710368732, 4.0444245035237465, 2.8655255811943916, 3.8630554385499996]\n"
          ]
        }
      ]
    },
    {
      "cell_type": "code",
      "source": [
        "print(min(gamma2))"
      ],
      "metadata": {
        "id": "uITu8AknzHdm",
        "outputId": "b736d1a8-6ccf-462a-8352-52b2254151b4",
        "colab": {
          "base_uri": "https://localhost:8080/"
        }
      },
      "execution_count": null,
      "outputs": [
        {
          "output_type": "stream",
          "name": "stdout",
          "text": [
            "1.0518349314569226\n"
          ]
        }
      ]
    },
    {
      "cell_type": "code",
      "source": [
        "### least absolute value\n",
        "gamma1_least_abs = abs(min(gamma1))\n",
        "gamma1_least_abs"
      ],
      "metadata": {
        "id": "6HeHcJINzHZY",
        "outputId": "a9f701b8-93d5-4fb1-dc04-31ff238794de",
        "colab": {
          "base_uri": "https://localhost:8080/"
        }
      },
      "execution_count": null,
      "outputs": [
        {
          "output_type": "execute_result",
          "data": {
            "text/plain": [
              "2.805255515672376"
            ]
          },
          "metadata": {},
          "execution_count": 69
        }
      ]
    },
    {
      "cell_type": "code",
      "source": [
        "gamma2_least_abs = abs(min(gamma2))\n",
        "gamma2_least_abs\n"
      ],
      "metadata": {
        "id": "u_MeVbUpzHK9",
        "outputId": "919949f6-4580-4cc8-fdbe-fed8388338f4",
        "colab": {
          "base_uri": "https://localhost:8080/"
        }
      },
      "execution_count": null,
      "outputs": [
        {
          "output_type": "execute_result",
          "data": {
            "text/plain": [
              "1.0518349314569226"
            ]
          },
          "metadata": {},
          "execution_count": 70
        }
      ]
    },
    {
      "cell_type": "code",
      "metadata": {
        "id": "64Pwo6Mxmv6X"
      },
      "source": [
        "# Grader's area\n",
        "\n",
        "maxScore = maxScore + 16\n",
        "#M[4,1] = \n",
        "#M[4,2] = \n",
        "#M[4,3] = \n",
        "#M[4,4] = \n"
      ],
      "execution_count": null,
      "outputs": []
    },
    {
      "cell_type": "markdown",
      "source": [
        "-----------------------\n",
        "-----------------------\n",
        "-----------------------\n"
      ],
      "metadata": {
        "id": "JTLcwDVan9x9"
      }
    },
    {
      "cell_type": "markdown",
      "source": [
        "##  <font color = 'blue'> **Question 5. Upper bound for perceptron errors before convergence**  </font>\n",
        "\n",
        "In this problem we will use $\\gamma$ calculated in question 4. If you have not been able to calculate it, you can 'borrow' its value from someone else that has calculated it (I expect that this can be done on Canvas).\n",
        "\n",
        "<font color = 'blue'> **Q5-1.** </font> Calculate $R = \\max_{x\\in X} ||x||_2$. In other words, find the 2-norm of all points in the dataset, and let $R$ be the maximum norm. \n",
        "\n",
        "<font color = 'blue'> **Q5-2.** </font> Calculate $maxErrors = R/\\gamma^2$. This is the maximum number of errors that a perceptron can do, in the worst case, before it convergences. \n",
        "\n",
        "<font color = 'blue'> **Q5-3.** </font> Compare $maxError$ with the actual number of errors that the perceptron does with a random initialization. [Hint: Re-use the code from assignment 2, or anything else that can provide you with that number].  \n",
        "\n",
        "\n"
      ],
      "metadata": {
        "id": "N3ECKgmBD_aJ"
      }
    },
    {
      "cell_type": "code",
      "source": [
        "# your answers go here"
      ],
      "metadata": {
        "id": "ccvq5Z_RI8nO"
      },
      "execution_count": null,
      "outputs": []
    },
    {
      "cell_type": "markdown",
      "source": [
        "Q 5.1 Solution"
      ],
      "metadata": {
        "id": "OS9rl7C3zV6k"
      }
    },
    {
      "cell_type": "code",
      "source": [
        "## 2-norm for every element in X\n",
        "X_norm2 = []\n",
        "for i in range(X.shape[0]):\n",
        "    X_norm2.append(np.linalg.norm(X[i,:], ord = 2))"
      ],
      "metadata": {
        "id": "iUG7RDN3zZJc"
      },
      "execution_count": null,
      "outputs": []
    },
    {
      "cell_type": "code",
      "source": [
        "\n",
        "R = max(X_norm2)\n",
        "print(R)"
      ],
      "metadata": {
        "id": "8WmHzWXfzY_R",
        "outputId": "6a8b8382-0da6-4218-a2c5-9ee9cf4c9ce0",
        "colab": {
          "base_uri": "https://localhost:8080/"
        }
      },
      "execution_count": null,
      "outputs": [
        {
          "output_type": "stream",
          "name": "stdout",
          "text": [
            "8.462860036654275\n"
          ]
        }
      ]
    },
    {
      "cell_type": "markdown",
      "source": [
        "Q 5.2 Solution"
      ],
      "metadata": {
        "id": "AqPxu4cjzhJI"
      }
    },
    {
      "cell_type": "code",
      "source": [
        "maxErrors = R/(gamma1_least_abs**2)"
      ],
      "metadata": {
        "id": "zDqLhSw5zYq6"
      },
      "execution_count": null,
      "outputs": []
    },
    {
      "cell_type": "code",
      "source": [
        "print(maxErrors)"
      ],
      "metadata": {
        "id": "KT8yPatZI-US",
        "outputId": "13d8d7da-ced1-4ab4-9f8d-482d520d6d7e",
        "colab": {
          "base_uri": "https://localhost:8080/"
        }
      },
      "execution_count": null,
      "outputs": [
        {
          "output_type": "stream",
          "name": "stdout",
          "text": [
            "1.0754056365917533\n"
          ]
        }
      ]
    },
    {
      "cell_type": "markdown",
      "source": [
        "Q 5.3 Solution"
      ],
      "metadata": {
        "id": "fqYOyw4_z17g"
      }
    },
    {
      "cell_type": "code",
      "source": [
        "## reusing code from assignment 2 for perceptron\n",
        "\n",
        "class Perceptron(object):\n",
        "     \"\"\"Perceptron classifier.\n",
        "     Parameters\n",
        "     ------------\n",
        "     eta : float\n",
        "     Learning rate (between 0.0 and 1.0)\n",
        "     n_iter : int\n",
        "     Passes over the training dataset.\n",
        "     random_state : int\n",
        "     Random number generator seed for random weight\n",
        "     initialization.\n",
        "     Attributes\n",
        "     -----------\n",
        "     w_ : 1d-array\n",
        "     Weights after fitting.\n",
        "     errors_ : list\n",
        "     Number of misclassifications (updates) in each epoch.\n",
        "     \"\"\"\n",
        "     def __init__(self, eta=0.01, n_iter=50, random_state=1):\n",
        "         self.eta = eta\n",
        "         self.n_iter = n_iter # Attribute for iterations\n",
        "         self.weights = [] # Attribute for weights\n",
        "         self.random_state = random_state\n",
        "         \n",
        "     def fit(self, X, y):\n",
        "        \"\"\"Fit training data.\n",
        "        Parameters\n",
        "        ----------\n",
        "        X : {array-like}, shape = [n_examples, n_features]\n",
        "        Training vectors, where n_examples is the number of examples and\n",
        "        n_features is the number of features.\n",
        "        y : array-like, shape = [n_examples]\n",
        "        Target values.\n",
        "        Returns\n",
        "        -------\n",
        "        self : object\n",
        "        \"\"\"\n",
        "        rgen = np.random.RandomState(self.random_state)\n",
        "        self.w_ = rgen.normal(loc=0.0, scale=0.01, size=1 + X.shape[1])\n",
        "        self.errors_ = []\n",
        "       \n",
        "       \n",
        "        for _ in range(self.n_iter):\n",
        "            errors = 0\n",
        "            for xi, target in zip(X, y):\n",
        "                update = self.eta * (target - self.predict(xi))\n",
        "                self.weights.append(self.w_) # storing weights at each iteration to main\n",
        "                self.w_[1:] += update * xi\n",
        "                self.w_[0] += update\n",
        "                errors += int(update != 0.0)\n",
        "            self.errors_.append(errors)\n",
        "            if errors == 0: # stops when no more iterations are necessary\n",
        "                break\n",
        "            # my do-nothing code\n",
        "            IK = 2020\n",
        "            # my do-nothing code\n",
        "       \n",
        "        return self\n",
        "    \n",
        "            \n",
        "     def net_input(self, X):\n",
        "        \"\"\"Calculate net input\"\"\"\n",
        "        return np.dot(X, self.w_[1:]) + self.w_[0]\n",
        "\n",
        "     def predict(self, X):\n",
        "        \"\"\"Return class label after unit step\"\"\"\n",
        "        return np.where(self.net_input(X) >= 0.0, 1, -1)\n",
        "        \n",
        "      "
      ],
      "metadata": {
        "id": "KhFQFvX-z-CL"
      },
      "execution_count": null,
      "outputs": []
    },
    {
      "cell_type": "code",
      "source": [
        "modl_perceptron = Perceptron(eta=0.1, n_iter=1000).fit(X,y)       \n",
        "        \n",
        "\n",
        "### Errors\n",
        "modl_perceptron.errors_    "
      ],
      "metadata": {
        "id": "m0d1ddp_z9-w",
        "outputId": "0e2e88d4-a090-46eb-cfe8-ddb2e560235d",
        "colab": {
          "base_uri": "https://localhost:8080/"
        }
      },
      "execution_count": null,
      "outputs": [
        {
          "output_type": "execute_result",
          "data": {
            "text/plain": [
              "[1, 3, 3, 2, 1, 0]"
            ]
          },
          "metadata": {},
          "execution_count": 77
        }
      ]
    },
    {
      "cell_type": "code",
      "source": [
        "### Max error   \n",
        "maxError_perceptron = max(modl_perceptron.errors_ )"
      ],
      "metadata": {
        "id": "FfSY_eXDz975"
      },
      "execution_count": null,
      "outputs": []
    },
    {
      "cell_type": "markdown",
      "source": [
        "In Our case, we can see that the MaxError obtained was approximately 1. Whereas using a perceptron, max errors possible \n",
        "before convergence are 3. Hence, logisticRegressionGD has lower possibilities of exceeding errors before convergence."
      ],
      "metadata": {
        "id": "Yjs4o3h80UPb"
      }
    },
    {
      "cell_type": "code",
      "metadata": {
        "id": "vUts9oNyI4R7"
      },
      "source": [
        "# Grader's area\n",
        "\n",
        "maxScore = maxScore + 12\n",
        "#M[5,1] = \n",
        "#M[5,2] = \n",
        "#M[5,3] = \n",
        " \n"
      ],
      "execution_count": null,
      "outputs": []
    },
    {
      "cell_type": "markdown",
      "source": [
        "----------------------------\n",
        "----------------------------\n",
        "----------------------------"
      ],
      "metadata": {
        "id": "fdAULOJaI_2h"
      }
    },
    {
      "cell_type": "code",
      "source": [
        "#Grader's area\n",
        "\n",
        "rawScore = np.sum(M)\n",
        "score = rawScore*100/maxScore"
      ],
      "metadata": {
        "id": "IVkneTzYCAxs"
      },
      "execution_count": null,
      "outputs": []
    },
    {
      "cell_type": "code",
      "source": [],
      "metadata": {
        "id": "RHdcyebzleMQ"
      },
      "execution_count": null,
      "outputs": []
    }
  ]
}